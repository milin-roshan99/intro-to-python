{
 "cells": [
  {
   "cell_type": "code",
   "execution_count": null,
   "metadata": {},
   "outputs": [],
   "source": [
    "import io\n",
    "import sys\n",
    "import numpy as np\n",
    "\n",
    "# colours\n",
    "RED = '\\033[91m'\n",
    "GREEN = '\\033[92m'\n",
    "RESET = '\\033[0m'  # Reset color"
   ]
  },
  {
   "cell_type": "code",
   "execution_count": 2,
   "metadata": {},
   "outputs": [],
   "source": [
    "def test_stable_calculation():\n",
    "    def run_individual_test(test_number, description, x_value, expected_output):\n",
    "        try:\n",
    "            result = stable_calculation(x_value)\n",
    "            # Check if the function is implemented\n",
    "            if result is None:\n",
    "                raise NotImplementedError(\"stable_calculation function is not implemented\")\n",
    "\n",
    "            assert np.isclose(result, expected_output), f\"Expected {expected_output}, got {result}\"\n",
    "            print(f\"{GREEN}Test {test_number} Passed: {description}{RESET}\")\n",
    "\n",
    "        except NotImplementedError as e:\n",
    "            print(f\"{RED}Test {test_number} Skipped: {description}. {e}{RESET}\")\n",
    "        except AssertionError as e:\n",
    "            print(f\"{RED}Test {test_number} Failed: {description}. {str(e)}{RESET}\")\n",
    "\n",
    "    # Running the tests with explicit values and expected outputs\n",
    "    run_individual_test(1, \"Stable calculation with small x value\", 1, 1 / (np.sqrt(2) + np.sqrt(1)))\n",
    "    run_individual_test(2, \"Stable calculation with large x value\", 1e16, 1 / (np.sqrt(1e16 + 1) + np.sqrt(1e16)))"
   ]
  },
  {
   "cell_type": "code",
   "execution_count": 5,
   "metadata": {},
   "outputs": [],
   "source": [
    "def test_energy_analysis_tasks():\n",
    "    def run_test(test_number, description, test_function):\n",
    "        try:\n",
    "            test_function()\n",
    "            print(f\"{GREEN}Test {test_number} Passed: {description}{RESET}\")\n",
    "        except AssertionError as e:\n",
    "            print(f\"{RED}Test {test_number} Failed: {description}. {str(e)}{RESET}\")\n",
    "        except Exception as e:\n",
    "            print(f\"{RED}Test {test_number} Error: {e}{RESET}\")\n",
    "\n",
    "    # Test for merging dataframes\n",
    "    def test_merge_dataframes():\n",
    "        assert 'merged_df' in globals(), \"merged_df is not defined\"\n",
    "        merged_columns = set(customers_df.columns.to_list() + energy_usage_df.columns.to_list()) - {'NMI'}\n",
    "        assert all(column in globals()['merged_df'].columns for column in merged_columns), \"Merged DataFrame missing columns\"\n",
    "\n",
    "    # Test for total energy usage calculation\n",
    "    def test_total_energy_usage():\n",
    "        assert 'total_energy_per_customer' in globals(), \"total_energy_per_customer is not defined\"\n",
    "        # Perform a sample calculation to verify\n",
    "        sample_calculation = globals()['merged_df'].groupby('Name')['kWh'].sum()\n",
    "        assert globals()['total_energy_per_customer'].equals(sample_calculation), \"total_energy_per_customer calculation is incorrect\"\n",
    "\n",
    "    # Test for highest energy usage customer\n",
    "    def test_highest_energy_usage_customer():\n",
    "        assert 'highest_energy_usage_customer_name' in globals(), \"highest_energy_usage_customer_name is not defined\"\n",
    "        highest_energy_customer = globals()['total_energy_per_customer'].idxmax()\n",
    "        assert globals()['highest_energy_usage_customer_name'] == highest_energy_customer, \"Incorrect highest energy usage customer\"\n",
    "\n",
    "    # Test for average energy usage per hour\n",
    "    def test_average_energy_per_hour():\n",
    "        assert 'average_energy_per_hour' in globals(), \"average_energy_per_hour is not defined\"\n",
    "        sample_avg_calculation = globals()['merged_df'].groupby(globals()['merged_df']['Hour'].dt.hour)['kWh'].mean()\n",
    "        assert globals()['average_energy_per_hour'].equals(sample_avg_calculation), \"average_energy_per_hour calculation is incorrect\"\n",
    "\n",
    "    # Test for highest usage hour\n",
    "    def test_highest_usage_hour():\n",
    "        assert 'highest_usage_hour' in globals(), \"highest_usage_hour is not defined\"\n",
    "        highest_hour = globals()['average_energy_per_hour'].idxmax()\n",
    "        assert globals()['highest_usage_hour'] == highest_hour, \"Incorrect highest usage hour\"\n",
    "\n",
    "    # Test for age-energy correlation\n",
    "    def test_age_energy_correlation():\n",
    "        assert 'age_energy_correlation' in globals(), \"age_energy_correlation is not defined\"\n",
    "        sample_correlation = globals()['merged_df']['Age'].corr(globals()['merged_df']['kWh'])\n",
    "        assert globals()['age_energy_correlation'] == sample_correlation, \"Incorrect age-energy correlation value\"\n",
    "\n",
    "    # Running the tests\n",
    "    run_test(1, \"Testing merging of DataFrames\", test_merge_dataframes)\n",
    "    run_test(2, \"Testing total energy usage calculation\", test_total_energy_usage)\n",
    "    run_test(3, \"Testing highest energy usage customer\", test_highest_energy_usage_customer)\n",
    "    run_test(4, \"Testing average energy usage per hour\", test_average_energy_per_hour)\n",
    "    run_test(5, \"Testing highest usage hour\", test_highest_usage_hour)\n",
    "    run_test(6, \"Testing age-energy correlation\", test_age_energy_correlation)\n"
   ]
  },
  {
   "cell_type": "code",
   "execution_count": null,
   "metadata": {},
   "outputs": [],
   "source": []
  }
 ],
 "metadata": {
  "kernelspec": {
   "display_name": "Python 3",
   "language": "python",
   "name": "python3"
  },
  "language_info": {
   "codemirror_mode": {
    "name": "ipython",
    "version": 3
   },
   "file_extension": ".py",
   "mimetype": "text/x-python",
   "name": "python",
   "nbconvert_exporter": "python",
   "pygments_lexer": "ipython3",
   "version": "3.10.8"
  }
 },
 "nbformat": 4,
 "nbformat_minor": 2
}
