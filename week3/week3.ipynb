{
 "cells": [
  {
   "cell_type": "code",
   "execution_count": 1,
   "metadata": {},
   "outputs": [],
   "source": [
    "# SETUP CODE - PlEASE RUN THIS ONCE WHEN YOU STARTUP YOUR CODESPACE\n",
    "\n",
    "# RUN TEST FILE\n",
    "%run 'test/week3_test.ipynb'"
   ]
  },
  {
   "cell_type": "markdown",
   "metadata": {},
   "source": [
    "# Week 3 - Debugging, Testing, Packages, Numpy, Pandas and Dataframes"
   ]
  },
  {
   "cell_type": "markdown",
   "metadata": {},
   "source": [
    "## Debugging in Python\n",
    "\n",
    "Debugging is an essential part of the development process. It involves identifying and fixing bugs or defects in your code. Python provides several tools and techniques for effective debugging.\n",
    "\n",
    "### The First Computer Bug\n",
    "![Alt text](https://images.nationalgeographic.org/image/upload/t_edhub_resource_key_image/v1638888858/EducationHub/photos/computer-bug.jpg)\n"
   ]
  },
  {
   "cell_type": "markdown",
   "metadata": {},
   "source": [
    "### Print Statements\n",
    "One of the simplest methods of debugging is to use print statements to output the values of variables at different points in your program."
   ]
  },
  {
   "cell_type": "code",
   "execution_count": 2,
   "metadata": {},
   "outputs": [
    {
     "name": "stdout",
     "output_type": "stream",
     "text": [
      "Checking: 3\n",
      "Checking: 1\n",
      "Checking: 4\n",
      "Checking: 1\n",
      "Checking: 5\n",
      "Checking: 9\n",
      "Checking: 2\n",
      "Checking: 6\n",
      "The maximum number is 9\n"
     ]
    }
   ],
   "source": [
    "def find_max(numbers):\n",
    "    max_num = numbers[0]\n",
    "    for num in numbers:\n",
    "        print(f\"Checking: {num}\")  # Debugging print\n",
    "        if num > max_num:\n",
    "            max_num = num\n",
    "    return max_num\n",
    "\n",
    "numbers = [3, 1, 4, 1, 5, 9, 2, 6]\n",
    "print(f\"The maximum number is {find_max(numbers)}\")"
   ]
  },
  {
   "cell_type": "markdown",
   "metadata": {},
   "source": [
    "### Using Python's Built-in Debugger (pdb)\n",
    "Python comes with a built-in debugger called pdb, which allows you to set breakpoints and step through the code interactively."
   ]
  },
  {
   "cell_type": "code",
   "execution_count": null,
   "metadata": {},
   "outputs": [],
   "source": [
    "# dont' run this code in your notebook it will crash\n",
    "\"\"\"\n",
    "import pdb\n",
    "\n",
    "def find_max(numbers):\n",
    "    max_num = numbers[0]\n",
    "    for num in numbers:\n",
    "        pdb.set_trace()  # Set a breakpoint here\n",
    "        if num > max_num:\n",
    "            max_num = num\n",
    "    return max_num\n",
    "\n",
    "numbers = [3, 1, 4, 1, 5, 9, 2, 6]\n",
    "print(f\"The maximum number is {find_max(numbers)}\")\n",
    "\"\"\""
   ]
  },
  {
   "cell_type": "markdown",
   "metadata": {},
   "source": [
    "### Using IDEs for Debugging\n",
    "Modern Integrated Development Environments (IDEs) like PyCharm, VS Code, or Eclipse with PyDev offer advanced debugging capabilities. They provide a graphical interface for setting breakpoints, stepping through the code, inspecting variables, and more.\n",
    "\n"
   ]
  },
  {
   "cell_type": "markdown",
   "metadata": {},
   "source": [
    "#### Example\n",
    "Set a breakpoint in your IDE at a specific line by clicking next to the line number.\n",
    "Run your script in debug mode.\n",
    "Use the IDE's interface to step through the code, inspect variables, and watch expressions."
   ]
  },
  {
   "cell_type": "markdown",
   "metadata": {},
   "source": [
    "### Common Debugging Techniques\n",
    "- Break Down the Problem: Simplify the code to isolate the bug.\n",
    "- Check for Typos: Syntax errors or misnamed variables can often cause bugs.\n",
    "- Read Error Messages: They often point you to the source of the problem.\n",
    "- Check External Resources: Ensure files, databases, or network resources are accessible and correct.\n",
    "- **Rubber Duck Debugging: Explain your code to someone else (or a rubber duck) to gain new insights.**"
   ]
  },
  {
   "cell_type": "markdown",
   "metadata": {},
   "source": [
    "### Types of Python Errors\n",
    "\n",
    "#### Syntax Errors\n",
    "\n",
    "Syntax errors occur when the Python interpreter encounters code that doesn't follow the rules of the Python language syntax. These errors are detected before the program actually runs.\n",
    "\n",
    "##### Common Causes:\n",
    "- Missing punctuation, such as a colon : at the end of a def statement.\n",
    "- Incorrect indentation.\n",
    "- Mismatched or missing brackets ((), {}, [])."
   ]
  },
  {
   "cell_type": "code",
   "execution_count": 3,
   "metadata": {},
   "outputs": [
    {
     "name": "stdout",
     "output_type": "stream",
     "text": [
      "Hello world\n"
     ]
    }
   ],
   "source": [
    "# Example\n",
    "print(\"Hello world\")  # Missing closing parenthesis"
   ]
  },
  {
   "cell_type": "markdown",
   "metadata": {},
   "source": [
    "#### Runtime Errors\n",
    "\n",
    "Runtime errors happen while the program is running after it has successfully passed the syntax check. These errors are often referred to as exceptions."
   ]
  },
  {
   "cell_type": "markdown",
   "metadata": {},
   "source": [
    "- Common Runtime Errors:\n",
    "    - NameError: Occurs when a variable or function name is not recognized by Python.\n",
    "    - TypeError: Happens when an operation or function is applied to an object of an inappropriate type.\n",
    "    - IndexError: Raised when trying to access an item at an index that does not exist in a list, tuple, or string.\n",
    "    - KeyError: Occurs when a dictionary key is not found.\n",
    "    - AttributeError: Raised when an attribute reference or assignment fails.\n",
    "    - ValueError: Happens when a function receives an argument of the correct type but an inappropriate value.\n",
    "    - ZeroDivisionError: Occurs when attempting to divide by zero."
   ]
  },
  {
   "cell_type": "code",
   "execution_count": 5,
   "metadata": {},
   "outputs": [
    {
     "name": "stdout",
     "output_type": "stream",
     "text": [
      "3\n"
     ]
    }
   ],
   "source": [
    "# example\n",
    "numbers = [1, 2, 3]\n",
    "print(numbers[2])  # IndexError as index 3 does not exist"
   ]
  },
  {
   "cell_type": "markdown",
   "metadata": {},
   "source": [
    "### Logical Errors\n",
    "\n",
    "Logical errors happen when the syntax is correct but the code does not perform as expected due to a flaw in logic."
   ]
  },
  {
   "cell_type": "markdown",
   "metadata": {},
   "source": [
    "- Common Logical Errors:\n",
    "\n",
    "    - Using the wrong operator or variables.\n",
    "    - Incorrect implementation of an algorithm.\n",
    "    - Failure to account for all possible cases in a conditional or loop."
   ]
  },
  {
   "cell_type": "code",
   "execution_count": 8,
   "metadata": {},
   "outputs": [
    {
     "name": "stdout",
     "output_type": "stream",
     "text": [
      "5\n"
     ]
    }
   ],
   "source": [
    "# Example\n",
    "def divide(a, b):\n",
    "    return a // b  # Incorrect operation for division\n",
    "\n",
    "print(divide(10, 2))  # Expected output is 5 but will output 20\n"
   ]
  },
  {
   "cell_type": "markdown",
   "metadata": {},
   "source": [
    "## Challenge Task 1"
   ]
  },
  {
   "cell_type": "markdown",
   "metadata": {},
   "source": [
    "Below is a Python script that contains multiple errors, including syntax errors, logical errors, and runtime errors. Your task is to debug the script, ensuring it runs correctly and produces the expected output. The script is intended to perform the following tasks:"
   ]
  },
  {
   "cell_type": "markdown",
   "metadata": {},
   "source": [
    "1. Define a function to calculate the factorial of a number.\n",
    "2. Define a function to check if a word is a palindrome.\n",
    "3. Execute a series of operations that utilize these functions."
   ]
  },
  {
   "cell_type": "code",
   "execution_count": 9,
   "metadata": {},
   "outputs": [
    {
     "name": "stdout",
     "output_type": "stream",
     "text": [
      "Factorial of 5: 120\n",
      "Is 'racecar' a palindrome?: True\n"
     ]
    }
   ],
   "source": [
    "# factorial function uses recursion - recursion is when a function calls itself\n",
    "def factorial(n):\n",
    "    # Calculate the factorial of n\n",
    "    if n == 0 or n == 1:\n",
    "        return 1\n",
    "    else:\n",
    "        return n * factorial(n - 1)\n",
    "\n",
    "def is_palindrome(word):\n",
    "    # Check if a word is a palindrome\n",
    "    return word == word[::-1]\n",
    "\n",
    "# Test the functions\n",
    "print(\"Factorial of 5:\", factorial(5))\n",
    "print(\"Is 'racecar' a palindrome?:\", is_palindrome(\"racecar\"))\n"
   ]
  },
  {
   "cell_type": "code",
   "execution_count": 10,
   "metadata": {},
   "outputs": [],
   "source": [
    "# write some simple python code to test your functions"
   ]
  },
  {
   "cell_type": "markdown",
   "metadata": {},
   "source": [
    "# Testing in Python"
   ]
  },
  {
   "cell_type": "markdown",
   "metadata": {},
   "source": [
    "\n",
    "Testing is a critical part of software development that helps ensure your code works as expected and remains robust over time. In Python, there are several ways to write and run tests, ranging from simple assertions to more complex test frameworks."
   ]
  },
  {
   "cell_type": "markdown",
   "metadata": {},
   "source": [
    "### Types of Tests\n",
    "1. Unit Testing\n",
    "Description: Testing individual components or functions of a program in isolation.\n",
    "Tools: Python’s built-in unittest library, pytest, nose2.\n",
    "Usage: Writing test cases for each function or method to ensure they work correctly under various conditions.\n",
    "\n",
    "2. Integration Testing\n",
    "Description: Testing the integration of different units or components to ensure they work together as expected.\n",
    "Usage: Combining individual units and testing them as a group.\n",
    "\n",
    "3. Functional Testing\n",
    "Description: Testing the application against its functional requirements.\n",
    "Usage: Ensuring the software behaves as expected from an end user's perspective."
   ]
  },
  {
   "cell_type": "markdown",
   "metadata": {},
   "source": [
    "### Writing Tests in Python\n",
    "Using assert Statements\n",
    "- Simplest form of testing.\n",
    "- Syntax: assert condition, message\n",
    "- Usage Example:"
   ]
  },
  {
   "cell_type": "code",
   "execution_count": null,
   "metadata": {},
   "outputs": [],
   "source": [
    "def add(a, b):\n",
    "    return a + b\n",
    "\n",
    "assert add(2, 3) == 5, \"Should be 5\"\n"
   ]
  },
  {
   "cell_type": "markdown",
   "metadata": {},
   "source": [
    "### Using the unit test framework"
   ]
  },
  {
   "cell_type": "code",
   "execution_count": 11,
   "metadata": {},
   "outputs": [
    {
     "name": "stderr",
     "output_type": "stream",
     "text": [
      ".\n",
      "----------------------------------------------------------------------\n",
      "Ran 1 test in 0.001s\n",
      "\n",
      "OK\n"
     ]
    }
   ],
   "source": [
    "import unittest\n",
    "\n",
    "def add(x, y):\n",
    "    return x + y\n",
    "\n",
    "class TestAddition(unittest.TestCase):\n",
    "    def test_add(self):\n",
    "        self.assertEqual(add(2, 3), 5)\n",
    "\n",
    "# Running the tests\n",
    "if __name__ == '__main__':\n",
    "    unittest.main(argv=['first-arg-is-ignored'], exit=False)\n"
   ]
  },
  {
   "cell_type": "markdown",
   "metadata": {},
   "source": [
    "## Numpy & Mathematics in Python"
   ]
  },
  {
   "cell_type": "markdown",
   "metadata": {},
   "source": [
    "NumPy, short for Numerical Python, is an essential library for scientific computing in Python. It provides support for large multi-dimensional arrays and matrices, along with a collection of mathematical functions to operate on these arrays.\n",
    "\n",
    "- Efficiency: NumPy arrays are stored more efficiently and allow for faster operations than Python lists, especially for large data sets.\n",
    "- Functionality: NumPy provides a wide range of mathematical and statistical functions.\n",
    "- Convenience: It supports an array-oriented programming style, which simplifies many kinds of data manipulation tasks.\n",
    "\n",
    "\n"
   ]
  },
  {
   "cell_type": "markdown",
   "metadata": {},
   "source": [
    "### NumPy Arrays\n",
    "The core of NumPy is the ndarray object, representing a multidimensional, homogeneous array of fixed-size items.\n",
    "\n"
   ]
  },
  {
   "cell_type": "code",
   "execution_count": 14,
   "metadata": {},
   "outputs": [],
   "source": [
    "import numpy as np"
   ]
  },
  {
   "cell_type": "code",
   "execution_count": 15,
   "metadata": {},
   "outputs": [
    {
     "name": "stdout",
     "output_type": "stream",
     "text": [
      "[[1 2 3]\n",
      " [4 5 6]]\n"
     ]
    }
   ],
   "source": [
    "# From a Python list\n",
    "arr = np.array([1, 2, 3])\n",
    "\n",
    "# Multidimensional array\n",
    "multi_arr = np.array([[1, 2, 3], [4, 5, 6]])\n",
    "\n",
    "print(multi_arr)\n",
    "\n",
    "# Arrays of zeros and ones\n",
    "zeros = np.zeros((2, 3))\n",
    "ones = np.ones((3, 2))\n"
   ]
  },
  {
   "cell_type": "markdown",
   "metadata": {},
   "source": [
    "### Array Operations\n",
    "NumPy provides a variety of operations that can be performed on arrays."
   ]
  },
  {
   "cell_type": "code",
   "execution_count": 16,
   "metadata": {},
   "outputs": [],
   "source": [
    "# Element-wise addition\n",
    "sum_arr = arr + arr\n",
    "\n",
    "# Element-wise multiplication\n",
    "prod_arr = arr * arr\n",
    "\n",
    "# Matrix product\n",
    "matrix_prod = np.dot(multi_arr, ones)\n"
   ]
  },
  {
   "cell_type": "markdown",
   "metadata": {},
   "source": [
    "#### Array Indexing and Slicing\n",
    "NumPy arrays can be sliced and indexed similar to Python lists"
   ]
  },
  {
   "cell_type": "code",
   "execution_count": 17,
   "metadata": {},
   "outputs": [],
   "source": [
    "# Accessing elements\n",
    "element = arr[0]\n",
    "\n",
    "# Slicing\n",
    "sub_array = multi_arr[0:2, 1:3]\n"
   ]
  },
  {
   "cell_type": "markdown",
   "metadata": {},
   "source": [
    "#### Useful NumPy Functions\n",
    "NumPy provides many functions that are useful for statistical and mathematical operations."
   ]
  },
  {
   "cell_type": "code",
   "execution_count": 18,
   "metadata": {},
   "outputs": [
    {
     "data": {
      "text/plain": [
       "6.123233995736766e-17"
      ]
     },
     "execution_count": 18,
     "metadata": {},
     "output_type": "execute_result"
    }
   ],
   "source": [
    "# Mean and standard deviation\n",
    "mean = np.mean(arr)\n",
    "std_dev = np.std(arr)\n",
    "\n",
    "# Sum and product\n",
    "arr_sum = np.sum(arr)\n",
    "arr_prod = np.prod(arr)\n",
    "\n",
    "# Transpose\n",
    "transposed = multi_arr.T\n",
    "\n",
    "# triginometric functions\n",
    "np.sin(np.pi / 2)\n",
    "np.cos(np.pi / 2) # <-- Observe FLOATING POINT ERROR - 6.123233995736766e-17"
   ]
  },
  {
   "cell_type": "markdown",
   "metadata": {},
   "source": [
    "## Challenge Task 2\n",
    "Catastrophic cancellation is a problem in numerical computing where significant digits of precision are lost due to the subtraction of two nearly equal numbers. This loss of precision can lead to highly inaccurate results, especially in floating-point computations.\n",
    "\n",
    "### Example of Catastrophic Cancellation in Python\n",
    "Let's consider a mathematical problem where catastrophic cancellation can occur. Suppose we want to compute the value of the expression sqrt(x + 1) - sqrt(x) for a very large x. Theoretically, as x becomes very large, this expression should approach zero. However, due to floating-point precision issues, the result can be inaccurate.\n",
    "\n",
    "Here's how this can be implemented and demonstrated in Python:"
   ]
  },
  {
   "cell_type": "code",
   "execution_count": 19,
   "metadata": {},
   "outputs": [],
   "source": [
    "def unstable_calculation(x):\n",
    "    return np.sqrt(x + 1) - np.sqrt(x)\n"
   ]
  },
  {
   "cell_type": "markdown",
   "metadata": {},
   "source": [
    "### Explanation and Alternative Approach\n",
    "When subtracting two nearly equal numbers, many of the leading digits cancel out, and the difference is determined by the less significant digits, which are less accurately known. This leads to a result that can be significantly off from the true value.\n",
    "\n",
    "To avoid catastrophic cancellation, one approach is to reformulate the problem to avoid direct subtraction of nearly equal numbers. Using algebraic manipulation or an alternative formula that is mathematically equivalent but numerically more stable can often help.\n",
    "\n",
    "For the example above, we can use the mathematical identity:\n",
    "\n",
    "$$\n",
    "\\sqrt{a} - \\sqrt{b} = \\frac{(\\sqrt{a} - \\sqrt{b})(\\sqrt{a} + \\sqrt{b})}{\\sqrt{a} + \\sqrt{b}} = \\frac{a - b}{\\sqrt{a} + \\sqrt{b}}\n",
    "$$\n"
   ]
  },
  {
   "cell_type": "markdown",
   "metadata": {},
   "source": [
    "#### Applying this identity, we can rewrite the function in a more stable form:"
   ]
  },
  {
   "cell_type": "markdown",
   "metadata": {},
   "source": [
    "$$\n",
    "\\frac{(x + 1) - (x)}{\\sqrt{x+1} + \\sqrt{x}} = \\frac{1}{\\sqrt{x+1} + \\sqrt{x}}\n",
    "$$"
   ]
  },
  {
   "cell_type": "code",
   "execution_count": 20,
   "metadata": {},
   "outputs": [],
   "source": [
    "def stable_calculation(x):\n",
    "    # implement your stable function code here\n",
    "    return 1 / (np.sqrt(x + 1) + np.sqrt(x))\n"
   ]
  },
  {
   "cell_type": "code",
   "execution_count": 21,
   "metadata": {},
   "outputs": [
    {
     "name": "stdout",
     "output_type": "stream",
     "text": [
      "\u001b[92mTest 1 Passed: Stable calculation with small x value\u001b[0m\n",
      "\u001b[92mTest 2 Passed: Stable calculation with large x value\u001b[0m\n"
     ]
    }
   ],
   "source": [
    "# run tests to confirm your stable calculation function\n",
    "test_stable_calculation()"
   ]
  },
  {
   "cell_type": "code",
   "execution_count": 22,
   "metadata": {},
   "outputs": [
    {
     "data": {
      "image/png": "[encoded data removed]",
      "text/plain": [
       "<Figure size 1000x600 with 1 Axes>"
      ]
     },
     "metadata": {},
     "output_type": "display_data"
    }
   ],
   "source": [
    "# graph of stable vs unstable\n",
    "import matplotlib.pyplot as plt\n",
    "\n",
    "# Generate a range of x values\n",
    "x_values = np.linspace(1, 1e12, 10000)\n",
    "\n",
    "# Calculate the absolute difference between stable and unstable calculations\n",
    "difference = [abs(stable_calculation(x) - unstable_calculation(x)) for x in x_values]\n",
    "\n",
    "# Plotting the results\n",
    "plt.figure(figsize=(10, 6))\n",
    "plt.plot(x_values, difference, label=\"Absolute Difference\", color='blue')\n",
    "plt.xscale('log')  # Using logarithmic scale for x-axis\n",
    "plt.yscale('log')  # Using logarithmic scale for y-axis\n",
    "plt.xlabel('x value')\n",
    "plt.ylabel('Absolute Difference')\n",
    "plt.title('Difference between Stable and Unstable Calculations')\n",
    "plt.legend()\n",
    "plt.show()\n"
   ]
  },
  {
   "cell_type": "markdown",
   "metadata": {},
   "source": [
    "This example is a great way to show that computational mathematics is not always just a lift and shift operation (ie. it's not just as simple as picking up the equation and typing it into python). There are a number of considerations that come into play such as numerical stability as seen in this challenge task."
   ]
  },
  {
   "cell_type": "markdown",
   "metadata": {},
   "source": [
    "## Pandas DataFrames"
   ]
  },
  {
   "cell_type": "markdown",
   "metadata": {},
   "source": [
    "Pandas is a popular Python library for data manipulation and analysis. Its primary data structure is the DataFrame, a 2-dimensional labeled structure, ideal for handling various data types and complex data operations.\n",
    "\n",
    "### Key Features of Pandas DataFrames\n",
    "- Handling Different Data Types: Supports columns with diverse data types.\n",
    "- Size Mutability: Easy addition and deletion of columns.\n",
    "- Labeling Data: Clear labeling of rows and columns.\n",
    "- Advanced Data Operations: Offers a wide range of functions for data manipulation, including filtering, grouping, and pivoting.\n",
    "\n",
    "### Creating DataFrames\n",
    "DataFrames can be created from different data structures like dictionaries, lists, or numpy arrays. We can think of dataframes like tables or excel sheets that have rows and columns.\n"
   ]
  },
  {
   "cell_type": "code",
   "execution_count": 23,
   "metadata": {},
   "outputs": [],
   "source": [
    "# import pandas\n",
    "import pandas as pd\n"
   ]
  },
  {
   "cell_type": "code",
   "execution_count": 24,
   "metadata": {},
   "outputs": [
    {
     "name": "stdout",
     "output_type": "stream",
     "text": [
      "Dictionary Dataframe\n",
      "     Name  Age\n",
      "0  Alice   25\n",
      "1    Bob   30\n",
      "2  Chris   35 \n",
      "\n",
      "\n",
      "List Dataframe\n",
      "     Name  Age\n",
      "0  Alice   25\n",
      "1    Bob   30\n",
      "2  Chris   35\n"
     ]
    }
   ],
   "source": [
    "# from a dictionary\n",
    "data = {'Name': ['Alice', 'Bob', 'Chris'], 'Age': [25, 30, 35]}\n",
    "dict_df = pd.DataFrame(data)\n",
    "\n",
    "# from a list\n",
    "names = ['Alice', 'Bob', 'Chris']\n",
    "ages = [25, 30, 35]\n",
    "list_df = pd.DataFrame(list(zip(names, ages)), columns=['Name', 'Age'])\n",
    "\n",
    "print('Dictionary Dataframe\\n', dict_df, '\\n\\n')\n",
    "print('List Dataframe\\n', list_df)\n",
    "\n",
    "df = dict_df"
   ]
  },
  {
   "cell_type": "markdown",
   "metadata": {},
   "source": [
    "### Reading and Writing Data\n",
    "Pandas supports various file formats like CSV, Excel, and JSON."
   ]
  },
  {
   "cell_type": "code",
   "execution_count": 25,
   "metadata": {},
   "outputs": [],
   "source": [
    "# read csv\n",
    "# df = pd.read_csv('data.csv') <- we don't want to run this code since we don't have a file called data.csv in this directory\n",
    "\n",
    "# write to csv\n",
    "# df.to_csv('output.csv', index=False) "
   ]
  },
  {
   "cell_type": "markdown",
   "metadata": {},
   "source": [
    "### Viewing Data"
   ]
  },
  {
   "cell_type": "code",
   "execution_count": 26,
   "metadata": {},
   "outputs": [
    {
     "data": {
      "text/html": [
       "<div>\n",
       "<style scoped>\n",
       "    .dataframe tbody tr th:only-of-type {\n",
       "        vertical-align: middle;\n",
       "    }\n",
       "\n",
       "    .dataframe tbody tr th {\n",
       "        vertical-align: top;\n",
       "    }\n",
       "\n",
       "    .dataframe thead th {\n",
       "        text-align: right;\n",
       "    }\n",
       "</style>\n",
       "<table border=\"1\" class=\"dataframe\">\n",
       "  <thead>\n",
       "    <tr style=\"text-align: right;\">\n",
       "      <th></th>\n",
       "      <th>Name</th>\n",
       "      <th>Age</th>\n",
       "    </tr>\n",
       "  </thead>\n",
       "  <tbody>\n",
       "    <tr>\n",
       "      <th>0</th>\n",
       "      <td>Alice</td>\n",
       "      <td>25</td>\n",
       "    </tr>\n",
       "    <tr>\n",
       "      <th>1</th>\n",
       "      <td>Bob</td>\n",
       "      <td>30</td>\n",
       "    </tr>\n",
       "    <tr>\n",
       "      <th>2</th>\n",
       "      <td>Chris</td>\n",
       "      <td>35</td>\n",
       "    </tr>\n",
       "  </tbody>\n",
       "</table>\n",
       "</div>"
      ],
      "text/plain": [
       "    Name  Age\n",
       "0  Alice   25\n",
       "1    Bob   30\n",
       "2  Chris   35"
      ]
     },
     "execution_count": 26,
     "metadata": {},
     "output_type": "execute_result"
    }
   ],
   "source": [
    "df.head()  # First 5 rows\n",
    "df.tail()  # Last 5 rows"
   ]
  },
  {
   "cell_type": "markdown",
   "metadata": {},
   "source": [
    "### Selecting Data with loc and iloc\n",
    "- loc: Selects data by labels/index.\n",
    "- iloc: Selects data by integer position."
   ]
  },
  {
   "cell_type": "code",
   "execution_count": 27,
   "metadata": {},
   "outputs": [],
   "source": [
    "# Selecting a single row by index\n",
    "row = df.loc[0]\n",
    "\n",
    "# Selecting a range of rows\n",
    "rows = df.iloc[1:3]\n",
    "\n",
    "# Selecting specific columns\n",
    "ages = df.loc[:, 'Age']\n",
    "name_age = df.iloc[:, [0, 1]]"
   ]
  },
  {
   "cell_type": "markdown",
   "metadata": {},
   "source": [
    "### Filtering Data"
   ]
  },
  {
   "cell_type": "code",
   "execution_count": 28,
   "metadata": {},
   "outputs": [
    {
     "name": "stdout",
     "output_type": "stream",
     "text": [
      "    Name  Age\n",
      "2  Chris   35\n"
     ]
    }
   ],
   "source": [
    "over_30 = df[df['Age'] > 30]\n",
    "\n",
    "print(over_30)"
   ]
  },
  {
   "cell_type": "markdown",
   "metadata": {},
   "source": [
    "### Adding and Deleting Columns"
   ]
  },
  {
   "cell_type": "code",
   "execution_count": 29,
   "metadata": {},
   "outputs": [
    {
     "name": "stdout",
     "output_type": "stream",
     "text": [
      "    Name  Age Country\n",
      "0  Alice   25     USA\n",
      "1    Bob   30     USA\n",
      "2  Chris   35     USA \n",
      "\n",
      "    Name  Age\n",
      "0  Alice   25\n",
      "1    Bob   30\n",
      "2  Chris   35\n"
     ]
    }
   ],
   "source": [
    "df['Country'] = 'USA'  # Add new column\n",
    "\n",
    "print(df, '\\n')\n",
    "\n",
    "del df['Country']      # Delete column\n",
    "\n",
    "print(df)\n"
   ]
  },
  {
   "cell_type": "markdown",
   "metadata": {},
   "source": [
    "### Advanced DataFrame Features"
   ]
  },
  {
   "cell_type": "code",
   "execution_count": 30,
   "metadata": {},
   "outputs": [
    {
     "name": "stdout",
     "output_type": "stream",
     "text": [
      "Grouped DataFrame\n",
      "\n",
      "City: Brisbane\n",
      "    Name Department  Salary      City\n",
      "0  Alice    Finance   70000  Brisbane\n",
      "1    Bob         IT   65000  Brisbane \n",
      "\n",
      "City: Cairns\n",
      "    Name Department  Salary    City\n",
      "2  Chris         IT   80000  Cairns \n",
      "\n",
      "\n",
      "\n",
      "Merged Dataframe\n",
      "     Name  Age Department  Salary      City\n",
      "0  Alice   25    Finance   70000  Brisbane\n",
      "1    Bob   30         IT   65000  Brisbane\n",
      "2  Chris   35         IT   80000    Cairns\n",
      "\n",
      "\n",
      "Pivoted Dataframe\n",
      "              Age   Salary\n",
      "Department               \n",
      "Finance     25.0  70000.0\n",
      "IT          32.5  72500.0\n"
     ]
    }
   ],
   "source": [
    "# construct complimentry df\n",
    "employee_data = {\n",
    "    'Name': ['Alice', 'Bob', 'Chris'],\n",
    "    'Department': ['Finance', 'IT', 'IT'],\n",
    "    'Salary': [70000, 65000, 80000],\n",
    "    'City': ['Brisbane', 'Brisbane', 'Cairns']\n",
    "}\n",
    "\n",
    "other_df = pd.DataFrame(employee_data)\n",
    "\n",
    "# group by \n",
    "grouped = other_df.groupby('City')\n",
    "\n",
    "print('Grouped DataFrame\\n')\n",
    "\n",
    "# Iterate through groups\n",
    "for name, group in grouped:\n",
    "    print(f\"City: {name}\")\n",
    "    print(group, \"\\n\")\n",
    "\n",
    "# merging and joining\n",
    "merged_df = pd.merge(df, other_df, on='Name')\n",
    "\n",
    "print('\\n\\nMerged Dataframe\\n', merged_df)\n",
    "\n",
    "# pivot tables\n",
    "pivot = merged_df.pivot_table(values=['Age', 'Salary'], index='Department', aggfunc='mean')\n",
    "\n",
    "print('\\n\\nPivoted Dataframe\\n', pivot)\n"
   ]
  },
  {
   "cell_type": "markdown",
   "metadata": {},
   "source": [
    "These operation are used by data engineers to merge, transform and mold certain data into various shapes for different purposes. The concepts are the same across python and SQL (Sructured Query Language) so the skills are all very transferrable."
   ]
  },
  {
   "cell_type": "markdown",
   "metadata": {},
   "source": [
    "## Challenge Task 3\n",
    "\n",
    "In this challenge task, you are provided with a scenario that involves two sets of data represented as Pandas DataFrames in Python. The first DataFrame, customers_df, contains customer data for a hypothetical energy company, while the second DataFrame energy_usage_df contains each customer's hourly energy usage data. The goal is to merge and analyze these datasets to gain insights into customer energy usage patterns."
   ]
  },
  {
   "cell_type": "code",
   "execution_count": 31,
   "metadata": {},
   "outputs": [],
   "source": [
    "# first lets setup some random data for our data frames\n",
    "\n",
    "# Sample customer data for 10 customers\n",
    "customer_data = {\n",
    "    'NMI': [f'NMI{100 + i}' for i in range(10)],\n",
    "    'Name': [f'Customer {i}' for i in range(1, 11)],\n",
    "    'Address': [f'{i} Some St' for i in range(100, 110)],\n",
    "    'Age': [20 + i for i in range(10)]\n",
    "}\n",
    "\n",
    "customers_df = pd.DataFrame(customer_data)\n",
    "\n",
    "# set np random seed which makes sure that random data is always the same for testing purposes\n",
    "np.random.seed(0)\n",
    "\n",
    "# Generate sample energy usage data for 10 customers\n",
    "hours = pd.date_range('2023-01-01', periods=24, freq='H')\n",
    "nmis = [f'NMI{100 + i}' for i in range(10)]\n",
    "energy_data = {\n",
    "    'NMI': np.repeat(nmis, 24),\n",
    "    'Hour': hours.tolist() * 10,\n",
    "    'kWh': np.random.rand(24 * 10) * 10  # Random kWh values for each hour\n",
    "}\n",
    "\n",
    "energy_usage_df = pd.DataFrame(energy_data)\n"
   ]
  },
  {
   "cell_type": "code",
   "execution_count": 32,
   "metadata": {},
   "outputs": [
    {
     "data": {
      "text/html": [
       "<div>\n",
       "<style scoped>\n",
       "    .dataframe tbody tr th:only-of-type {\n",
       "        vertical-align: middle;\n",
       "    }\n",
       "\n",
       "    .dataframe tbody tr th {\n",
       "        vertical-align: top;\n",
       "    }\n",
       "\n",
       "    .dataframe thead th {\n",
       "        text-align: right;\n",
       "    }\n",
       "</style>\n",
       "<table border=\"1\" class=\"dataframe\">\n",
       "  <thead>\n",
       "    <tr style=\"text-align: right;\">\n",
       "      <th></th>\n",
       "      <th>NMI</th>\n",
       "      <th>Name</th>\n",
       "      <th>Address</th>\n",
       "      <th>Age</th>\n",
       "    </tr>\n",
       "  </thead>\n",
       "  <tbody>\n",
       "    <tr>\n",
       "      <th>0</th>\n",
       "      <td>NMI100</td>\n",
       "      <td>Customer 1</td>\n",
       "      <td>100 Some St</td>\n",
       "      <td>20</td>\n",
       "    </tr>\n",
       "    <tr>\n",
       "      <th>1</th>\n",
       "      <td>NMI101</td>\n",
       "      <td>Customer 2</td>\n",
       "      <td>101 Some St</td>\n",
       "      <td>21</td>\n",
       "    </tr>\n",
       "    <tr>\n",
       "      <th>2</th>\n",
       "      <td>NMI102</td>\n",
       "      <td>Customer 3</td>\n",
       "      <td>102 Some St</td>\n",
       "      <td>22</td>\n",
       "    </tr>\n",
       "    <tr>\n",
       "      <th>3</th>\n",
       "      <td>NMI103</td>\n",
       "      <td>Customer 4</td>\n",
       "      <td>103 Some St</td>\n",
       "      <td>23</td>\n",
       "    </tr>\n",
       "    <tr>\n",
       "      <th>4</th>\n",
       "      <td>NMI104</td>\n",
       "      <td>Customer 5</td>\n",
       "      <td>104 Some St</td>\n",
       "      <td>24</td>\n",
       "    </tr>\n",
       "  </tbody>\n",
       "</table>\n",
       "</div>"
      ],
      "text/plain": [
       "      NMI        Name      Address  Age\n",
       "0  NMI100  Customer 1  100 Some St   20\n",
       "1  NMI101  Customer 2  101 Some St   21\n",
       "2  NMI102  Customer 3  102 Some St   22\n",
       "3  NMI103  Customer 4  103 Some St   23\n",
       "4  NMI104  Customer 5  104 Some St   24"
      ]
     },
     "execution_count": 32,
     "metadata": {},
     "output_type": "execute_result"
    }
   ],
   "source": [
    "# lets list the customer data to see the rows columns\n",
    "\n",
    "customers_df.head()"
   ]
  },
  {
   "cell_type": "code",
   "execution_count": 33,
   "metadata": {},
   "outputs": [
    {
     "data": {
      "text/html": [
       "<div>\n",
       "<style scoped>\n",
       "    .dataframe tbody tr th:only-of-type {\n",
       "        vertical-align: middle;\n",
       "    }\n",
       "\n",
       "    .dataframe tbody tr th {\n",
       "        vertical-align: top;\n",
       "    }\n",
       "\n",
       "    .dataframe thead th {\n",
       "        text-align: right;\n",
       "    }\n",
       "</style>\n",
       "<table border=\"1\" class=\"dataframe\">\n",
       "  <thead>\n",
       "    <tr style=\"text-align: right;\">\n",
       "      <th></th>\n",
       "      <th>NMI</th>\n",
       "      <th>Hour</th>\n",
       "      <th>kWh</th>\n",
       "    </tr>\n",
       "  </thead>\n",
       "  <tbody>\n",
       "    <tr>\n",
       "      <th>0</th>\n",
       "      <td>NMI100</td>\n",
       "      <td>2023-01-01 00:00:00</td>\n",
       "      <td>5.488135</td>\n",
       "    </tr>\n",
       "    <tr>\n",
       "      <th>1</th>\n",
       "      <td>NMI100</td>\n",
       "      <td>2023-01-01 01:00:00</td>\n",
       "      <td>7.151894</td>\n",
       "    </tr>\n",
       "    <tr>\n",
       "      <th>2</th>\n",
       "      <td>NMI100</td>\n",
       "      <td>2023-01-01 02:00:00</td>\n",
       "      <td>6.027634</td>\n",
       "    </tr>\n",
       "    <tr>\n",
       "      <th>3</th>\n",
       "      <td>NMI100</td>\n",
       "      <td>2023-01-01 03:00:00</td>\n",
       "      <td>5.448832</td>\n",
       "    </tr>\n",
       "    <tr>\n",
       "      <th>4</th>\n",
       "      <td>NMI100</td>\n",
       "      <td>2023-01-01 04:00:00</td>\n",
       "      <td>4.236548</td>\n",
       "    </tr>\n",
       "  </tbody>\n",
       "</table>\n",
       "</div>"
      ],
      "text/plain": [
       "      NMI                Hour       kWh\n",
       "0  NMI100 2023-01-01 00:00:00  5.488135\n",
       "1  NMI100 2023-01-01 01:00:00  7.151894\n",
       "2  NMI100 2023-01-01 02:00:00  6.027634\n",
       "3  NMI100 2023-01-01 03:00:00  5.448832\n",
       "4  NMI100 2023-01-01 04:00:00  4.236548"
      ]
     },
     "execution_count": 33,
     "metadata": {},
     "output_type": "execute_result"
    }
   ],
   "source": [
    "# lets list the energy usage data to see the rows and columns\n",
    "energy_usage_df.head()"
   ]
  },
  {
   "cell_type": "markdown",
   "metadata": {},
   "source": [
    "#### Explanation of the Customers Dataframe\n",
    "\n",
    "The customers_df DataFrame contains information about customers. Each row in this DataFrame represents a unique customer, with details about their identity and demographic information. Here's what each column represents:\n",
    "\n",
    "- NMI (National Meter Identifier): This is a unique identifier for each customer. It's a string that starts with 'NMI' followed by a number (e.g., 'NMI100', 'NMI101', etc.). This identifier is crucial for linking customers with their respective energy usage data.\n",
    "\n",
    "- Name: This column contains the name of the customer. In this dataset, customers are named in a sequence (e.g., 'Customer 1', 'Customer 2', etc.), indicating their order or position in the dataset.\n",
    "\n",
    "- Address: The address of each customer is listed here. Addresses are fictional and follow a numerical sequence (e.g., '100 Some St', '101 Some St', etc.). They provide a location context for each customer.\n",
    "\n",
    "- Age: This column shows the age of each customer. Ages are numeric values starting from 20 and increasing sequentially by 1 for each customer (e.g., 20, 21, 22, etc.).\n"
   ]
  },
  {
   "cell_type": "markdown",
   "metadata": {},
   "source": [
    "#### Explanation of the Energy Usage Dataframe\n",
    "\n",
    "The energy_usage_df DataFrame contains energy usage data for each customer, detailed hour by hour. Each row in this DataFrame represents an hourly record of energy consumption for a customer. Here's the breakdown:\n",
    "\n",
    "- NMI: Just like in customers_df, this column contains the National Meter Identifier for each customer. It's used to link each energy usage record to the corresponding customer in customers_df.\n",
    "\n",
    "- Hour: This column contains datetime objects, each representing a specific hour of a day. For instance, if the date is '2023-01-01', the hourly breakdown will start from '2023-01-01 00:00:00' and go up to '2023-01-01 23:00:00', covering a full 24-hour period.\n",
    "\n",
    "- kWh (Kilowatt-hour): This column shows the amount of energy consumed during each specified hour. The values are numeric and represent the energy usage in kilowatt-hours. These values are randomly generated in the example, ranging between 0 and 10 kWh."
   ]
  },
  {
   "cell_type": "markdown",
   "metadata": {},
   "source": [
    "### Tasks\n",
    "\n",
    "Note: questions marked with ** may be slightly more difficult\n",
    "\n",
    "#### Merge the Dataframes\n",
    "Merge customers_df with energy_usage_df on the 'NMI' column and store it in a variable called merged_df. What does the merged DataFrame look like?"
   ]
  },
  {
   "cell_type": "code",
   "execution_count": 34,
   "metadata": {},
   "outputs": [],
   "source": [
    "# create a variable called merged_df which holds the merged dataframe\n",
    "merged_df = pd.merge(customers_df, energy_usage_df, on='NMI')"
   ]
  },
  {
   "cell_type": "markdown",
   "metadata": {},
   "source": [
    "#### Calculate Total Energy Usage\n",
    "Calculate the total energy usage (kWh) for each customer in the merged DataFrame and assign it to the variable `total_energy_per_customer`\n",
    "\n",
    "Hint: when you group by a column you generally need to use an aggregation function like sum() or mean()\n",
    "\n",
    "unrelated example: `customer_salary = df.groupby('Name')['Salary'].sum()`"
   ]
  },
  {
   "cell_type": "code",
   "execution_count": 38,
   "metadata": {},
   "outputs": [
    {
     "data": {
      "text/plain": [
       "Name\n",
       "Customer 1     146.508819\n",
       "Customer 10    117.611490\n",
       "Customer 2     115.682349\n",
       "Customer 3      96.920919\n",
       "Customer 4      99.279193\n",
       "Customer 5     137.878949\n",
       "Customer 6     126.722426\n",
       "Customer 7     138.055318\n",
       "Customer 8     106.479704\n",
       "Customer 9     104.712214\n",
       "Name: kWh, dtype: float64"
      ]
     },
     "execution_count": 38,
     "metadata": {},
     "output_type": "execute_result"
    }
   ],
   "source": [
    "# create a varaible called total_energy_per_customer\n",
    "total_energy_per_customer = merged_df.groupby('Name')['kWh'].sum()"
   ]
  },
  {
   "cell_type": "markdown",
   "metadata": {},
   "source": [
    "#### Who used the most Energy over the 24 Hour period\n",
    "\n",
    "Using your newly created variable `total_energy_per_customer` find out the name of the customer which used the most energy and assign it to the variable `highest_energy_usage_customer_name`"
   ]
  },
  {
   "cell_type": "code",
   "execution_count": 61,
   "metadata": {},
   "outputs": [
    {
     "name": "stdout",
     "output_type": "stream",
     "text": [
      "Customer 1\n"
     ]
    }
   ],
   "source": [
    "# create a variable called highest_energy_usage_customer_name and assign the name of the customer\n",
    "# who had the highest energy usage over the 24 hours\n",
    "highest_energy_usage_customer_name = total_energy_per_customer.idxmax()\n",
    "print(highest_energy_usage_customer_name)"
   ]
  },
  {
   "cell_type": "markdown",
   "metadata": {},
   "source": [
    "#### Average Energy Usage for Each hour of the day across all customers **\n",
    "\n",
    "Calculate the average energy usage for each hour of the day across all customers. Asign it to the variable average_energy_per_hour"
   ]
  },
  {
   "cell_type": "code",
   "execution_count": 66,
   "metadata": {},
   "outputs": [
    {
     "data": {
      "text/plain": [
       "Hour\n",
       "0     5.313439\n",
       "1     5.048453\n",
       "2     5.789732\n",
       "3     4.911355\n",
       "4     5.088990\n",
       "5     4.303575\n",
       "6     3.236264\n",
       "7     5.534321\n",
       "8     4.305108\n",
       "9     5.678441\n",
       "10    4.444505\n",
       "11    4.359407\n",
       "12    4.208329\n",
       "13    5.158011\n",
       "14    5.129198\n",
       "15    3.412423\n",
       "16    5.112482\n",
       "17    5.508154\n",
       "18    6.536749\n",
       "19    4.620548\n",
       "20    7.135669\n",
       "21    5.125703\n",
       "22    3.963543\n",
       "23    5.060738\n",
       "Name: kWh, dtype: float64"
      ]
     },
     "execution_count": 66,
     "metadata": {},
     "output_type": "execute_result"
    }
   ],
   "source": [
    "# create a variable called average_energy_per_hour which stores the average energy usage across all customers for each our of \n",
    "# the day\n",
    "average_energy_per_hour = merged_df.groupby(merged_df['Hour'].dt.hour)['kWh'].mean()\n",
    "average_energy_per_hour"
   ]
  },
  {
   "cell_type": "markdown",
   "metadata": {},
   "source": [
    "#### Calculate which hour had the highest usage\n",
    "Using your newly created `average_energy_per_hour` dataframe calculate which hour had the highest usage across all customers for the day. Assign it to the variable `highest_usage_hour`"
   ]
  },
  {
   "cell_type": "code",
   "execution_count": 70,
   "metadata": {},
   "outputs": [
    {
     "name": "stdout",
     "output_type": "stream",
     "text": [
      "20\n"
     ]
    }
   ],
   "source": [
    "# create a variable called highest_usage_hour which stores the hour which had the highest usage of electricity across\n",
    "# the entire day\n",
    "highest_usage_hour = average_energy_per_hour.idxmax()\n",
    "print(highest_usage_hour)"
   ]
  },
  {
   "cell_type": "markdown",
   "metadata": {},
   "source": [
    "#### Calculate the Age-Energy Correlation Value **\n",
    "Calculate the correlation value between the age of the customer and the amount of energy usage and assign it to the variable `age_energy_correlation`. If we consider that a perfect correlation between two variables would be a value of `1`, do you think the value is significant enough to draw a causation between the two variables? That is can we accurately predict energy usage by age?\n"
   ]
  },
  {
   "cell_type": "code",
   "execution_count": 77,
   "metadata": {},
   "outputs": [
    {
     "data": {
      "text/plain": [
       "-0.04706120445654872"
      ]
     },
     "execution_count": 77,
     "metadata": {},
     "output_type": "execute_result"
    }
   ],
   "source": [
    "# create a variable called age_energy_correlation and calculate the correlation between a customers age and the energy they use.\n",
    "age_energy_correlation = merged_df[\"Age\"].corr(merged_df[\"kWh\"])\n",
    "age_energy_correlation"
   ]
  },
  {
   "cell_type": "code",
   "execution_count": 78,
   "metadata": {},
   "outputs": [
    {
     "name": "stdout",
     "output_type": "stream",
     "text": [
      "\u001b[92mTest 1 Passed: Testing merging of DataFrames\u001b[0m\n",
      "\u001b[92mTest 2 Passed: Testing total energy usage calculation\u001b[0m\n",
      "\u001b[92mTest 3 Passed: Testing highest energy usage customer\u001b[0m\n",
      "\u001b[92mTest 4 Passed: Testing average energy usage per hour\u001b[0m\n",
      "\u001b[92mTest 5 Passed: Testing highest usage hour\u001b[0m\n",
      "\u001b[92mTest 6 Passed: Testing age-energy correlation\u001b[0m\n"
     ]
    }
   ],
   "source": [
    "# if you're a data wizard run some automated tests on your variables\n",
    "test_energy_analysis_tasks()"
   ]
  },
  {
   "cell_type": "markdown",
   "metadata": {},
   "source": [
    "This challenge task is a real world EQL example of how pandas is useful to solve our very complicated business problems. Except we are current scaling up to 2.5 million customers and reading their meters every 5 minutes. That's 720 Millions meter reading records stored in our databases everyday. We then calculate the price for each customer and send it off to the retailers to charge the customer. We estimate that we will store more data in the next two years then we have since the existance of both energex and ergon. Now that's BIGGGGG DATA!!!"
   ]
  },
  {
   "cell_type": "markdown",
   "metadata": {},
   "source": []
  }
 ],
 "metadata": {
  "kernelspec": {
   "display_name": "Python 3",
   "language": "python",
   "name": "python3"
  },
  "language_info": {
   "codemirror_mode": {
    "name": "ipython",
    "version": 3
   },
   "file_extension": ".py",
   "mimetype": "text/x-python",
   "name": "python",
   "nbconvert_exporter": "python",
   "pygments_lexer": "ipython3",
   "version": "3.10.13"
  }
 },
 "nbformat": 4,
 "nbformat_minor": 2
}
