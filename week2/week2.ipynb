{
 "cells": [
  {
   "cell_type": "code",
   "execution_count": 1,
   "metadata": {},
   "outputs": [],
   "source": [
    "# SETUP CODE - PlEASE RUN THIS ONCE WHEN YOU STARTUP YOUR CODESPACE\n",
    "\n",
    "# RUN TEST FILE\n",
    "%run 'test/week2_test.ipynb'\n"
   ]
  },
  {
   "cell_type": "markdown",
   "metadata": {},
   "source": [
    "# Week 2 - Object Oriented Programming in Python\n",
    "\n",
    "## Introduction to OOP\n",
    "\n",
    "### Definition and Importance of OOP\n",
    "Object-Oriented Programming (OOP) is a programming paradigm centered around the concept of \"objects\". These objects can contain data, in the form of fields (often known as attributes or properties), and code, in the form of procedures (often known as methods). In OOP, computer programs are designed by making them out of objects that interact with one another. Unlike procedural programming, which structures programs as sequences of instructions, OOP structures programs as collections of objects that can communicate and interact. This approach to programming is well-suited for programs that are large, complex, and actively updated or maintained.\n",
    "\n",
    "OOP has become a fundamental part of modern software development due to its ability to encapsulate data and operations on data in objects, making it easier to structure and maintain complex programs. OOP principles such as inheritance, polymorphism, and encapsulation allow for code reuse and design patterns, leading to more efficient and manageable codebases. It supports modularity and scalability, making it easier to solve complex problems by breaking them down into smaller, inter-operable objects. OOP languages, like Java, C++, and Python, are widely used in various applications ranging from web and mobile apps to game development and scientific computing, underlining the paradigm's versatility and adaptability in the ever-evolving tech landscape.\n",
    "\n",
    "### Brief History of OOP\n",
    "Object-Oriented Programming (OOP) evolved as a response to the increasing complexity of software systems. In the early days of programming, procedural approaches were common, but they often led to issues like code duplication and difficulty in managing large codebases. The concept of organizing software around data structures and the operations that can be performed on them led to the development of OOP. The key idea was to bundle data and the methods that operate on the data into one unit, known as an object, making it easier to track and manage related functionality.\n",
    "\n",
    "- **Simula (1960s)**: Often regarded as the first object-oriented programming language, Simula introduced key concepts like classes, objects, inheritance, and dynamic binding.\n",
    "- **Smalltalk (1970s)**: This language further popularized OOP and introduced the concept of message passing, an important aspect of OOP in terms of object interaction.\n",
    "- **C++ (1980s)**: Developed as an extension of the C language, C++ added object-oriented features to a widely used programming language, significantly boosting the popularity of OOP.\n",
    "- **Java (1990s)**: Designed with a focus on portability across platforms, Java's \"Write Once, Run Anywhere\" philosophy and its robust OOP capabilities made it a staple in enterprise software development.\n",
    "- **Python**: While not exclusively an OOP language, Python supports OOP principles and is known for its easy-to-read syntax, making it a popular choice for teaching and implementing OOP concepts.\n",
    "\n"
   ]
  },
  {
   "cell_type": "markdown",
   "metadata": {},
   "source": [
    "## Classes and Objects\n",
    "\n",
    "### What are Classes and Objects?\n",
    "In Object-Oriented Programming, a **class** is a blueprint for creating objects. It defines a set of attributes and methods that the created objects (instances) can use. An **object** is an instance of a class. It contains real values instead of the variable placeholders that are defined in the class.\n",
    "\n",
    "### Creating a Simple Class in Python\n",
    "To create a class in Python, you use the `class` keyword. Below is an example of a simple class named `Car`. This class will have two attributes, `make\n"
   ]
  },
  {
   "cell_type": "code",
   "execution_count": 18,
   "metadata": {},
   "outputs": [],
   "source": [
    "class Car:\n",
    "    def __init__(self, make, model):\n",
    "        self.make = make\n",
    "        self.model = model"
   ]
  },
  {
   "cell_type": "markdown",
   "metadata": {},
   "source": [
    "In this example, the __init__ method is a special method called a constructor. It is called when a new object of the class is created and initializes the attributes of the class."
   ]
  },
  {
   "cell_type": "markdown",
   "metadata": {},
   "source": [
    "### Instantiating Objects from a Class\n",
    "Once you have a class, you can create objects (instances) from it. Here's how you can create objects of the Car class."
   ]
  },
  {
   "cell_type": "code",
   "execution_count": 19,
   "metadata": {},
   "outputs": [
    {
     "name": "stdout",
     "output_type": "stream",
     "text": [
      "Toyota Corolla\n",
      "Honda Civic\n"
     ]
    }
   ],
   "source": [
    "# Creating two car objects\n",
    "car1 = Car(\"Toyota\", \"Corolla\")\n",
    "car2 = Car(\"Honda\", \"Civic\")\n",
    "\n",
    "# Accessing object attributes\n",
    "print(car1.make, car1.model)  # Output: Toyota Corolla\n",
    "print(car2.make, car2.model)  # Output: Honda Civic\n"
   ]
  },
  {
   "cell_type": "markdown",
   "metadata": {},
   "source": [
    "In this example, car1 and car2 are objects of the Car class, each with its own make and model attributes. The values of these attributes are set when the objects are created and can be accessed using the dot notation."
   ]
  },
  {
   "cell_type": "markdown",
   "metadata": {},
   "source": [
    "## Attributes and Methods\n",
    "\n",
    "### Understanding Class Attributes and Instance Attributes\n",
    "In Python, there are two types of attributes in a class: class attributes and instance attributes. \n",
    "\n",
    "- **Class attributes** are shared by all instances of the class. They are defined directly in the class, outside of any methods.\n",
    "- **Instance attributes** are unique to each instance (object) of the class. They are usually defined within the `__init__` method and are accessed using the `self` keyword.\n",
    "\n",
    "#### Example of Class and Instance Attributes\n"
   ]
  },
  {
   "cell_type": "code",
   "execution_count": 20,
   "metadata": {},
   "outputs": [
    {
     "name": "stdout",
     "output_type": "stream",
     "text": [
      "My dog's name is Buddy and he is 4 years old.\n",
      "My dog belongs to the species Canis familiaris.\n"
     ]
    }
   ],
   "source": [
    "class Dog:\n",
    "    # Class attribute\n",
    "    species = \"Canis familiaris\"\n",
    "\n",
    "    def __init__(self, name, age):\n",
    "        # Instance attributes\n",
    "        self.name = name\n",
    "        self.age = age\n",
    "\n",
    "# Creating an instance of Dog\n",
    "my_dog = Dog(\"Buddy\", 4)\n",
    "\n",
    "# Accessing instance attributes\n",
    "print(f\"My dog's name is {my_dog.name} and he is {my_dog.age} years old.\")\n",
    "\n",
    "# Accessing class attribute\n",
    "print(f\"My dog belongs to the species {Dog.species}.\")"
   ]
  },
  {
   "cell_type": "markdown",
   "metadata": {},
   "source": [
    "### Defining Methods Within a Class\n",
    "Methods in a class are functions that belong to the class. They are used to define the behaviors of the objects.\n",
    "\n"
   ]
  },
  {
   "cell_type": "code",
   "execution_count": 21,
   "metadata": {},
   "outputs": [
    {
     "name": "stdout",
     "output_type": "stream",
     "text": [
      "Buddy is 4 years old.\n"
     ]
    }
   ],
   "source": [
    "class Dog:\n",
    "    species = \"Canis familiaris\"\n",
    "\n",
    "    def __init__(self, name, age):\n",
    "        self.name = name\n",
    "        self.age = age\n",
    "\n",
    "    # Instance method\n",
    "    def description(self):\n",
    "        return f\"{self.name} is {self.age} years old.\"\n",
    "\n",
    "# Creating an instance of Dog\n",
    "my_dog = Dog(\"Buddy\", 4)\n",
    "\n",
    "# Calling the instance method\n",
    "print(my_dog.description())"
   ]
  },
  {
   "cell_type": "markdown",
   "metadata": {},
   "source": [
    "\n",
    "### Using Class and Instance Methods\n",
    "Class methods and instance methods serve different purposes. Class methods act on the class itself, while instance methods act on the individual instances."
   ]
  },
  {
   "cell_type": "code",
   "execution_count": 6,
   "metadata": {},
   "outputs": [
    {
     "name": "stdout",
     "output_type": "stream",
     "text": [
      "Total dogs created: 2\n",
      "Canis familiaris\n",
      "Blah\n"
     ]
    }
   ],
   "source": [
    "class Dog:\n",
    "    species = \"Canis familiaris\"\n",
    "    total_dogs = 0  # Class attribute to keep track of total dogs\n",
    "\n",
    "    @classmethod\n",
    "    def increment_total_dogs(cls):\n",
    "        cls.total_dogs += 1\n",
    "\n",
    "    def __init__(self, name, age):\n",
    "        self.name = name\n",
    "        self.age = age\n",
    "        Dog.increment_total_dogs()\n",
    "\n",
    "    def description(self):\n",
    "        return f\"{self.name} is {self.age} years old.\"\n",
    "\n",
    "# Creating two instances of Dog\n",
    "dog1 = Dog(\"Buddy\", 4)\n",
    "dog2 = Dog(\"Lucy\", 2)\n",
    "\n",
    "# Accessing class method\n",
    "print(f\"Total dogs created: {Dog.total_dogs}\")\n",
    "\n",
    "print(f\"{Dog.species}\")\n",
    "Dog.species = \"Blah\"\n",
    "print(f\"{Dog.species}\")"
   ]
  },
  {
   "cell_type": "markdown",
   "metadata": {},
   "source": [
    "## The 4 Fundmental Pillars of OOP\n",
    "### Encapsulation\n",
    "\n",
    "#### Concept of Encapsulation\n",
    "Encapsulation is a fundamental concept in object-oriented programming. It involves bundling the data (attributes) and methods that act on the data into a single unit, a class. Encapsulation also restricts direct access to some of the object's components, which is a means of preventing accidental interference and misuse of the methods and data.\n",
    "\n",
    "#### Using Private Attributes and Methods\n",
    "In Python, private attributes and methods are denoted by prefixing the name with an underscore (`_`). This is a convention to indicate that these attributes and methods should not be accessed directly outside the class.\n",
    "\n",
    "##### Example of Private Attributes and Methods"
   ]
  },
  {
   "cell_type": "code",
   "execution_count": 3,
   "metadata": {},
   "outputs": [
    {
     "name": "stdout",
     "output_type": "stream",
     "text": [
      "Account holder: John\n",
      "Account balance: 1000\n",
      "Balance: 1000\n"
     ]
    }
   ],
   "source": [
    "class Account:\n",
    "    def __init__(self, name, balance):\n",
    "        self.name = name\n",
    "        self._balance = balance\n",
    "\n",
    "    def _display_balance(self):\n",
    "        return f\"Balance: {self._balance}\"\n",
    "\n",
    "# Creating an instance of Account\n",
    "account = Account(\"John\", 1000)\n",
    "\n",
    "# Accessing public method and attribute\n",
    "print(f\"Account holder: {account.name}\")\n",
    "\n",
    "# Accessing public method and attribute\n",
    "print(f\"Account balance: {account._balance}\")\n",
    "\n",
    "# Accessing private method and attribute (not recommended)\n",
    "print(account._display_balance())"
   ]
  },
  {
   "cell_type": "markdown",
   "metadata": {},
   "source": [
    "#### Implementing Getters and Setters\n",
    "Getters and setters are methods used to safely access and modify private attributes of a class.\n",
    "\n",
    "Example of Getters and Setters"
   ]
  },
  {
   "cell_type": "code",
   "execution_count": 24,
   "metadata": {},
   "outputs": [
    {
     "name": "stdout",
     "output_type": "stream",
     "text": [
      "1000\n",
      "500\n"
     ]
    }
   ],
   "source": [
    "class Account:\n",
    "    def __init__(self, name, balance):\n",
    "        self.name = name\n",
    "        self._balance = balance\n",
    "\n",
    "    # Getter method\n",
    "    def get_balance(self):\n",
    "        return self._balance\n",
    "\n",
    "    # Setter method\n",
    "    def set_balance(self, balance):\n",
    "        if balance < 0:\n",
    "            print(\"Balance cannot be negative.\")\n",
    "        else:\n",
    "            self._balance = balance\n",
    "\n",
    "# Creating an instance of Account\n",
    "account = Account(\"John\", 1000)\n",
    "\n",
    "# Using getter and setter\n",
    "print(account.get_balance())  # 1000\n",
    "account.set_balance(500)\n",
    "print(account.get_balance())  # 500\n"
   ]
  },
  {
   "cell_type": "markdown",
   "metadata": {},
   "source": [
    "## Inheritance\n",
    "#### Concept of Inheritance in OOP\n",
    "Inheritance is a mechanism in object-oriented programming that allows a new class to inherit properties and methods from an existing class. The new class is called a subclass, and the existing class is known as the superclass or parent class.\n",
    "\n",
    "#### Creating Subclasses in Python\n",
    "In Python, inheritance is implemented by passing the parent class as a parameter to the subclass."
   ]
  },
  {
   "cell_type": "code",
   "execution_count": 25,
   "metadata": {},
   "outputs": [
    {
     "name": "stdout",
     "output_type": "stream",
     "text": [
      "Woof!\n",
      "Meow!\n"
     ]
    }
   ],
   "source": [
    "class Animal:\n",
    "    def __init__(self, name):\n",
    "        self.name = name\n",
    "\n",
    "    def speak(self):\n",
    "        pass\n",
    "\n",
    "class Dog(Animal):\n",
    "    def speak(self):\n",
    "        return \"Woof!\"\n",
    "\n",
    "class Cat(Animal):\n",
    "    def speak(self):\n",
    "        return \"Meow!\"\n",
    "\n",
    "# Creating instances of subclasses\n",
    "dog = Dog(\"Buddy\")\n",
    "cat = Cat(\"Whiskers\")\n",
    "\n",
    "print(dog.speak())  # Woof!\n",
    "print(cat.speak())  # Meow!\n"
   ]
  },
  {
   "cell_type": "markdown",
   "metadata": {},
   "source": [
    "#### Overriding Methods in Subclasses\n",
    "Method overriding occurs when a subclass has a method with the same name as a method in the parent class. The subclass can provide its own implementation of the method."
   ]
  },
  {
   "cell_type": "code",
   "execution_count": 26,
   "metadata": {},
   "outputs": [
    {
     "name": "stdout",
     "output_type": "stream",
     "text": [
      "Chirp!\n"
     ]
    }
   ],
   "source": [
    "class Bird(Animal):\n",
    "    def speak(self):\n",
    "        return \"Chirp!\"\n",
    "\n",
    "# Creating an instance of the subclass\n",
    "bird = Bird(\"Tweety\")\n",
    "\n",
    "print(bird.speak())  # Chirp!"
   ]
  },
  {
   "cell_type": "markdown",
   "metadata": {},
   "source": [
    "## Polymorphism\n",
    "\n",
    "### Understanding Polymorphism\n",
    "Polymorphism in OOP is the ability of different classes to be treated as instances of the same class through a common interface. This allows functions to use objects of different classes without needing to know their specific class types. Polymorphism is closely related to inheritance and is a key feature in achieving flexibility and reusability in code.\n",
    "\n",
    "### Implementing Polymorphic Behavior in Python\n",
    "Polymorphism in Python is achieved through method overriding. We can define methods in subclasses that have the same name as methods in the parent class. Here is an example to illustrate this concept:\n",
    "\n",
    "#### Example of Polymorphism\n",
    "\n"
   ]
  },
  {
   "cell_type": "code",
   "execution_count": 27,
   "metadata": {},
   "outputs": [
    {
     "name": "stdout",
     "output_type": "stream",
     "text": [
      "Tweet!\n",
      "Squawk!\n"
     ]
    }
   ],
   "source": [
    "class Bird:\n",
    "    def speak(self):\n",
    "        pass\n",
    "\n",
    "class Sparrow(Bird):\n",
    "    def speak(self):\n",
    "        return \"Tweet!\"\n",
    "\n",
    "class Parrot(Bird):\n",
    "    def speak(self):\n",
    "        return \"Squawk!\"\n",
    "\n",
    "def bird_sound(bird):\n",
    "    print(bird.speak())\n",
    "\n",
    "# Polymorphism in action\n",
    "sparrow = Sparrow()\n",
    "parrot = Parrot()\n",
    "\n",
    "bird_sound(sparrow)  # Tweet!\n",
    "bird_sound(parrot)   # Squawk!"
   ]
  },
  {
   "cell_type": "markdown",
   "metadata": {},
   "source": [
    "In this example, the bird_sound function can take any object that has a speak method, demonstrating polymorphism."
   ]
  },
  {
   "cell_type": "markdown",
   "metadata": {},
   "source": [
    "#### Parent & Child Classes\n",
    "When the parent class in Python has compulsory constructor parameters, you need to ensure that these parameters are properly passed when initializing the parent class from the child class. This is typically done using the super() function in the child class's constructor.\n",
    "\n",
    "Here's an example to illustrate this:\n",
    "\n",
    "#### Parent Class with Compulsory Constructor Parameters"
   ]
  },
  {
   "cell_type": "code",
   "execution_count": 28,
   "metadata": {},
   "outputs": [],
   "source": [
    "class Parent:\n",
    "    def __init__(self, param1, param2):\n",
    "        self.param1 = param1\n",
    "        self.param2 = param2\n",
    "        print(f\"Parent initialized with {param1} and {param2}\")"
   ]
  },
  {
   "cell_type": "markdown",
   "metadata": {},
   "source": [
    "In this Parent class, the constructor (__init__) requires two parameters: param1 and param2.\n",
    "\n"
   ]
  },
  {
   "cell_type": "markdown",
   "metadata": {},
   "source": [
    "#### Child Class Inheriting from Parent"
   ]
  },
  {
   "cell_type": "code",
   "execution_count": 29,
   "metadata": {},
   "outputs": [],
   "source": [
    "class Child(Parent):\n",
    "    def __init__(self, param1, param2, child_param):\n",
    "        # Initializing the parent class with required parameters\n",
    "        super().__init__(param1, param2)\n",
    "        # Child class's own initialization\n",
    "        self.child_param = child_param\n",
    "        print(f\"Child initialized with {child_param}\")"
   ]
  },
  {
   "cell_type": "markdown",
   "metadata": {},
   "source": [
    "\n",
    "## Abstraction\n",
    "#### Concept of Abstraction\n",
    "Abstraction in OOP is the concept of hiding the complex reality while exposing only the necessary parts. It’s about creating a simple model that represents more complex underlying code and data. This is important for managing large applications, where the details of how things work are hidden, and only the necessary information is exposed.\n",
    "\n",
    "#### Abstract Classes and Methods in Python\n",
    "Abstract classes are classes that contain one or more abstract methods. An abstract method is a method that is declared, but it contains no implementation. Abstract classes cannot be instantiated, and require subclasses to provide implementations for the abstract methods.\n",
    "\n",
    "Example of Abstract Classes and Methods"
   ]
  },
  {
   "cell_type": "code",
   "execution_count": 30,
   "metadata": {},
   "outputs": [
    {
     "name": "stdout",
     "output_type": "stream",
     "text": [
      "20\n",
      "18\n"
     ]
    }
   ],
   "source": [
    "from abc import ABC, abstractmethod\n",
    "\n",
    "class Shape(ABC):\n",
    "    @abstractmethod\n",
    "    def area(self):\n",
    "        pass\n",
    "\n",
    "    @abstractmethod\n",
    "    def perimeter(self):\n",
    "        pass\n",
    "\n",
    "class Rectangle(Shape):\n",
    "    def __init__(self, length, width):\n",
    "        self.length = length\n",
    "        self.width = width\n",
    "\n",
    "    def area(self):\n",
    "        return self.length * self.width\n",
    "\n",
    "    def perimeter(self):\n",
    "        return 2 * (self.length + self.width)\n",
    "\n",
    "# Creating an instance of Rectangle\n",
    "rectangle = Rectangle(4, 5)\n",
    "print(rectangle.area())      # 20\n",
    "print(rectangle.perimeter()) # 18\n"
   ]
  },
  {
   "cell_type": "markdown",
   "metadata": {},
   "source": [
    "In this example, Shape is an abstract class with abstract methods area and perimeter. The Rectangle class inherits from Shape and provides implementations for the abstract methods. This demonstrates how abstraction is used to define a general interface for different shapes."
   ]
  },
  {
   "cell_type": "markdown",
   "metadata": {},
   "source": [
    "## OOP Example\n"
   ]
  },
  {
   "cell_type": "markdown",
   "metadata": {},
   "source": [
    "### Creating a Library Management System\n",
    "\n",
    "This example demonstrates the use of OOP concepts in building a simple library management system. We'll create classes for the library, books, and users.\n",
    "\n",
    "#### The Book Class\n",
    "Each book in the library will be represented by an instance of the `Book` class, which contains information about the book's title, author, and availability.\n"
   ]
  },
  {
   "cell_type": "code",
   "execution_count": 31,
   "metadata": {},
   "outputs": [],
   "source": [
    "class Book:\n",
    "    def __init__(self, title, author):\n",
    "        self.title = title\n",
    "        self.author = author\n",
    "        self.borrowed = False\n",
    "\n",
    "    def borrow_book(self):\n",
    "        if not self.borrowed:\n",
    "            self.borrowed = True\n",
    "            return True\n",
    "        return False\n",
    "\n",
    "    def return_book(self):\n",
    "        self.borrowed = False\n",
    "\n",
    "    def __str__(self):\n",
    "        return f\"{self.title} by {self.author}\""
   ]
  },
  {
   "cell_type": "markdown",
   "metadata": {},
   "source": [
    "#### The User Class\n",
    "The User class will represent users of the library. Each user can borrow and return books"
   ]
  },
  {
   "cell_type": "code",
   "execution_count": 32,
   "metadata": {},
   "outputs": [],
   "source": [
    "class User:\n",
    "    def __init__(self, name):\n",
    "        self.name = name\n",
    "        self.borrowed_books = []\n",
    "\n",
    "    def borrow_book(self, book):\n",
    "        if book.borrow_book():\n",
    "            self.borrowed_books.append(book)\n",
    "            print(f\"{self.name} has borrowed '{book.title}'\")\n",
    "        else:\n",
    "            print(f\"'{book.title}' is currently not available.\")\n",
    "\n",
    "    def return_book(self, book):\n",
    "        if book in self.borrowed_books:\n",
    "            book.return_book()\n",
    "            self.borrowed_books.remove(book)\n",
    "            print(f\"{self.name} has returned '{book.title}'\")\n",
    "\n",
    "    def list_borrowed_books(self):\n",
    "        if self.borrowed_books:\n",
    "            print(f\"{self.name}'s borrowed books:\")\n",
    "            for book in self.borrowed_books:\n",
    "                print(book)\n",
    "        else:\n",
    "            print(f\"{self.name} has no borrowed books.\")\n"
   ]
  },
  {
   "cell_type": "markdown",
   "metadata": {},
   "source": [
    "#### The Library Class\n",
    "The Library class manages the collection of books and users."
   ]
  },
  {
   "cell_type": "code",
   "execution_count": 33,
   "metadata": {},
   "outputs": [],
   "source": [
    "class Library:\n",
    "    def __init__(self):\n",
    "        self.books = []\n",
    "        self.users = []\n",
    "\n",
    "    def add_book(self, book):\n",
    "        self.books.append(book)\n",
    "\n",
    "    def register_user(self, user):\n",
    "        self.users.append(user)\n",
    "\n",
    "    def display_books(self):\n",
    "        print(\"Library Books:\")\n",
    "        for book in self.books:\n",
    "            status = 'Available' if not book.borrowed else 'Borrowed'\n",
    "            print(f\"{book} - {status}\")\n"
   ]
  },
  {
   "cell_type": "markdown",
   "metadata": {},
   "source": [
    "### Creating the Library"
   ]
  },
  {
   "cell_type": "code",
   "execution_count": 34,
   "metadata": {},
   "outputs": [
    {
     "name": "stdout",
     "output_type": "stream",
     "text": [
      "John Doe has borrowed 'To Kill a Mockingbird'\n",
      "John Doe's borrowed books:\n",
      "To Kill a Mockingbird by Harper Lee\n",
      "John Doe has returned 'To Kill a Mockingbird'\n",
      "Library Books:\n",
      "To Kill a Mockingbird by Harper Lee - Available\n",
      "1984 by George Orwell - Available\n",
      "The Great Gatsby by F. Scott Fitzgerald - Available\n"
     ]
    }
   ],
   "source": [
    "# Create the library\n",
    "library = Library()\n",
    "\n",
    "# Add books to the library\n",
    "library.add_book(Book(\"To Kill a Mockingbird\", \"Harper Lee\"))\n",
    "library.add_book(Book(\"1984\", \"George Orwell\"))\n",
    "library.add_book(Book(\"The Great Gatsby\", \"F. Scott Fitzgerald\"))\n",
    "\n",
    "# Register a user\n",
    "john = User(\"John Doe\")\n",
    "library.register_user(john)\n",
    "\n",
    "# Borrow a book\n",
    "john.borrow_book(library.books[0])  # Borrow \"To Kill a Mockingbird\"\n",
    "\n",
    "# List borrowed books\n",
    "john.list_borrowed_books()\n",
    "\n",
    "# Return a book\n",
    "john.return_book(library.books[0])\n",
    "\n",
    "# Check the library's books\n",
    "library.display_books()\n"
   ]
  },
  {
   "cell_type": "markdown",
   "metadata": {},
   "source": [
    "In this system, books can be added to the library, and users can borrow and return these books. This example showcases how OOP concepts like classes, objects, and methods can be used to build a simple yet functional application."
   ]
  },
  {
   "cell_type": "markdown",
   "metadata": {},
   "source": [
    "## OOP Challenge Task: Vehicle Management System\n",
    "\n",
    "Please keep it mind that OOP can be difficult conceptually to get your head around. It seems pointless and trivial in smaller programs and it often is. But when software systems get larger and lerger, we need architectures encompasing paradigms such as OOP that don't increase exponentially in complexity in relation to the size of our codebase. With all that in mind this challenge task is a great way to try a understand the fundamentals of OOP. It does however, get considerably more complex then this example in the real world...\n",
    "\n",
    "### Task Description\n",
    "\n",
    "Design and implement a Vehicle Management System in Python using Object-Oriented Programming, focusing on inheritance. This system should manage different types of vehicles, each with unique attributes and methods.\n",
    "\n",
    "#### Detailed Specifications:\n",
    "\n",
    "1. ** Class Vehicle (Base Class)**\n",
    "   - **Attributes**: \n",
    "     - `make` (string): Brand of the vehicle.\n",
    "     - `model` (string): Model of the vehicle.\n",
    "     - `year` (int): Year of manufacture.\n",
    "   - **Methods**:\n",
    "     - `vehicle_info()`: Returns a formatted string like \"Make: [make], Model: [model], Year: [year]\".\n",
    "\n",
    "2. **Inherited Vehicle Subclasses**\n",
    "   - **Car Subclass**:\n",
    "     - Additional Attribute: `number_of_doors` (int).\n",
    "     - Override `vehicle_info()`: Include door information in the returned string.\n",
    "   - **Truck Subclass**:\n",
    "     - Additional Attribute: `cargo_capacity` (float, in kilograms).\n",
    "     - Override `vehicle_info()`: Include cargo capacity in the returned string.\n",
    "   - **Motorcycle Subclass**:\n",
    "     - Additional Attribute: `has_sidecar` (boolean).\n",
    "     - Override `vehicle_info()`: Include sidecar information in the returned string.\n",
    "\n",
    "3. **VehicleManager Class**\n",
    "   - **Attributes**: \n",
    "     - `vehicles` (list): Stores instances of `Vehicle` and its subclasses.\n",
    "   - **Methods**:\n",
    "     - `add_vehicle(vehicle)`: Adds a new vehicle instance to the `vehicles` list.\n",
    "     - `remove_vehicle(make, model)`: Removes a vehicle by make and model. Returns True if successful, False otherwise.\n",
    "     - `list_vehicles()`: Returns a list of strings, each representing the information of a vehicle in the system.\n",
    "\n",
    "Example Outputs: \n",
    "\n",
    "```python\n",
    "\n",
    "# Example for Vehicle (Base Class)\n",
    "vehicle = Vehicle(\"Nissan\", \"Altima\", 2019)\n",
    "print(vehicle.vehicle_info())  # Output: Make: Nissan, Model: Altima, Year: 2019\n",
    "\n",
    "# Example for Car Subclass\n",
    "car = Car(\"Toyota\", \"Corolla\", 2020, 4)\n",
    "print(car.vehicle_info())  # Output: Make: Toyota, Model: Corolla, Year: 2020, Doors: 4\n",
    "\n",
    "# Example for Truck Subclass\n",
    "truck = Truck(\"Ford\", \"F-150\", 2019, 750.0)\n",
    "print(truck.vehicle_info())  # Output: Make: Ford, Model: F-150, Year: 2019, Cargo Capacity: 750.0 kg\n",
    "\n",
    "# Example for Motorcycle Subclass\n",
    "motorcycle = Motorcycle(\"Harley-Davidson\", \"Street 750\", 2021, False)\n",
    "print(motorcycle.vehicle_info())  # Output: Make: Harley-Davidson, Model: Street 750, Year: 2021, Sidecar: No\n"
   ]
  },
  {
   "cell_type": "markdown",
   "metadata": {},
   "source": [
    "#### write your code below\n"
   ]
  },
  {
   "cell_type": "code",
   "execution_count": 110,
   "metadata": {},
   "outputs": [],
   "source": [
    "# adjust the class definitions and complete attributes and methods\n",
    "\n",
    "class Vehicle:\n",
    "    def __init__(self, make: str, model: str, year: int):\n",
    "        self.make = make\n",
    "        self.model = model\n",
    "        self.year = year\n",
    "\n",
    "    def vehicle_info(self):\n",
    "        return f\"Make: {self.make}, Model: {self.model}, Year: {self.year}\"\n",
    "\n",
    "class Car(Vehicle):\n",
    "    def __init__(self, make: str, model: str, year: int, number_of_doors: int):\n",
    "        # Initializing the parent class with required parameters\n",
    "        super().__init__(make, model, year)\n",
    "        # Child class's own initialization\n",
    "        self.number_of_doors = number_of_doors\n",
    "\n",
    "    def vehicle_info(self):\n",
    "        return f\"Make: {self.make}, Model: {self.model}, Year: {self.year}, Doors: {self.number_of_doors}\"\n",
    "        \n",
    "class Truck(Vehicle):\n",
    "    def __init__(self, make: str, model: str, year: int, cargo_capacity: float):\n",
    "        # Initializing the parent class with required parameters\n",
    "        super().__init__(make, model, year)\n",
    "        # Child class's own initialization\n",
    "        self.cargo_capacity = cargo_capacity\n",
    "\n",
    "    def vehicle_info(self):\n",
    "        return f\"Make: {self.make}, Model: {self.model}, Year: {self.year}, Cargo Capacity: {self.cargo_capacity} kg\"\n",
    "\n",
    "class Motorcycle(Vehicle):\n",
    "    def __init__(self, make: str, model: str, year: int, has_sidecar: bool):\n",
    "        # Initializing the parent class with required parameters\n",
    "        super().__init__(make, model, year)\n",
    "        # Child class's own initialization\n",
    "        self.has_sidecar = has_sidecar\n",
    "\n",
    "    def vehicle_info(self):\n",
    "        sidecar = \"Yes\" if self.has_sidecar else \"No\"\n",
    "        return f\"Make: {self.make}, Model: {self.model}, Year: {self.year}, Sidecar: {sidecar}\"\n",
    "\n",
    "class VehicleManager:\n",
    "    def __init__(self):\n",
    "        self.vehicles = []\n",
    "\n",
    "    def add_vehicle(self, vehicle):\n",
    "        self.vehicles.append(vehicle)\n",
    "\n",
    "    def remove_vehicle(self, make, model):\n",
    "        status = False\n",
    "        new_vehicles_list = []\n",
    "        for vehichle_in in self.vehicles:\n",
    "            if not (vehichle_in.make == make and vehichle_in.model == model):\n",
    "                new_vehicles_list.append(vehichle_in)\n",
    "                status = True\n",
    "                \n",
    "        self.vehicles = new_vehicles_list\n",
    "        return status\n",
    "\n",
    "    def list_vehicles(self):\n",
    "        paragraph = \"\"\n",
    "        for vehicle_on in self.vehicles:\n",
    "            paragraph += vehicle_on.vehicle_info()\n",
    "        return paragraph\n",
    "\n",
    "    \n",
    "\n"
   ]
  },
  {
   "cell_type": "code",
   "execution_count": 111,
   "metadata": {},
   "outputs": [],
   "source": [
    "# write some code to test your vehicle management system\n",
    "vehicle_manager = VehicleManager()\n",
    "car = Car(\"Toyota\", \"Corolla\", 2020, 4)\n",
    "vehicle_manager.add_vehicle(car)\n",
    "vehicles_list = vehicle_manager.list_vehicles()\n",
    "expected_info = \"Make: Toyota, Model: Corolla, Year: 2020, Doors: 4\""
   ]
  },
  {
   "cell_type": "code",
   "execution_count": 112,
   "metadata": {},
   "outputs": [
    {
     "name": "stdout",
     "output_type": "stream",
     "text": [
      "\u001b[92mTest 1 Passed: Vehicle base class initialization\u001b[0m\n",
      "\u001b[92mTest 2 Passed: Vehicle base class information\u001b[0m\n",
      "\u001b[92mTest 3 Passed: Car subclass initialization\u001b[0m\n",
      "\u001b[92mTest 4 Passed: Car subclass information\u001b[0m\n",
      "\u001b[92mTest 5 Passed: Truck subclass initialization\u001b[0m\n",
      "\u001b[92mTest 6 Passed: Truck subclass information\u001b[0m\n",
      "\u001b[92mTest 7 Passed: Motorcycle subclass initialization\u001b[0m\n",
      "\u001b[92mTest 8 Passed: Motorcycle subclass information\u001b[0m\n",
      "\u001b[92mTest 9 Passed: Adding a vehicle to VehicleManager\u001b[0m\n",
      "\u001b[92mTest 10 Passed: Removing a vehicle from VehicleManager\u001b[0m\n",
      "\u001b[92mTest 11 Passed: Listing vehicles in VehicleManager\u001b[0m\n"
     ]
    }
   ],
   "source": [
    "# run some automated testing on your classes if you're game ;)\n",
    "test_vehicle_system()"
   ]
  },
  {
   "cell_type": "code",
   "execution_count": null,
   "metadata": {},
   "outputs": [],
   "source": []
  },
  {
   "cell_type": "code",
   "execution_count": null,
   "metadata": {},
   "outputs": [],
   "source": []
  }
 ],
 "metadata": {
  "kernelspec": {
   "display_name": "Python 3",
   "language": "python",
   "name": "python3"
  },
  "language_info": {
   "codemirror_mode": {
    "name": "ipython",
    "version": 3
   },
   "file_extension": ".py",
   "mimetype": "text/x-python",
   "name": "python",
   "nbconvert_exporter": "python",
   "pygments_lexer": "ipython3",
   "version": "3.10.13"
  }
 },
 "nbformat": 4,
 "nbformat_minor": 2
}
