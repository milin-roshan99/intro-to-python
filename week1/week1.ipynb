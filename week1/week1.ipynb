{
 "cells": [
  {
   "cell_type": "code",
   "execution_count": 7,
   "metadata": {},
   "outputs": [],
   "source": [
    "# SETUP CODE - PlEASE RUN THIS ONCE WHEN YOU STARTUP YOUR CODESPACE\n",
    "\n",
    "# RUN TEST FILE\n",
    "%run 'test/week1_test.ipynb'\n"
   ]
  },
  {
   "cell_type": "markdown",
   "metadata": {},
   "source": []
  },
  {
   "cell_type": "markdown",
   "metadata": {},
   "source": [
    "## Week 1 - Introduction to Python, Interpreted Languages, Primitive Types, Strings, Variables and Conditionals"
   ]
  },
  {
   "cell_type": "markdown",
   "metadata": {},
   "source": [
    "### Introduction to Python\n",
    "\n",
    "Python, a high-level, interpreted programming language, was conceived in the late 1980s by Guido van Rossum at Centrum Wiskunde & Informatica (CWI) in the Netherlands as a successor to the ABC language. It was designed with an emphasis on code readability, and its syntax allows programmers to express concepts in fewer lines of code compared to languages like C++ or Java. Python was officially released in 1991.\n",
    "\n",
    "The philosophy behind Python embraces simplicity and elegance. It emphasizes the importance of programmer effort over computational effort, leading to a language that's easy to write, read, and maintain. Python's design philosophy is encapsulated in \"The Zen of Python\" (PEP 20), which includes aphorisms such as \"Beautiful is better than ugly\" and \"Simple is better than complex.\"\n",
    "\n",
    "Over the years, Python has evolved significantly, with major releases like Python 2.0 in 2000, introducing features like list comprehensions and garbage collection with reference counting. Python 3.0, released in 2008, was a major revision designed to rectify fundamental design flaws in the language. Although not fully backward-compatible, it laid the foundation for future development, with improvements in Unicode support, syntax consistency, and a range of new features.\n",
    "\n",
    "Python's versatility, ease of use, and wide range of applications have made it popular in web development, data analysis, artificial intelligence, scientific computing, and beyond. Its extensive standard library and a vast ecosystem of third-party packages contribute to its status as one of the most beloved languages in the programming community. The language has a vibrant, inclusive community that values collaboration and innovation, evident in its numerous conferences and meetups worldwide.\n",
    "\n",
    "Python, the programming language, was named after the British comedy series \"Monty Python's Flying Circus,\" a favorite of its creator, Guido van Rossum. Van Rossum wanted a name that was short, unique, and slightly mysterious, and so he chose \"Python\" as a tribute to the show. This choice reflects the language's philosophy of prioritizing readability and simplicity, much like the straightforward and often whimsical style of Monty Python's comedy."
   ]
  },
  {
   "cell_type": "code",
   "execution_count": 8,
   "metadata": {},
   "outputs": [
    {
     "data": {
      "text/html": [
       "\n",
       "        <iframe\n",
       "            width=\"560\"\n",
       "            height=\"315\"\n",
       "            src=\"https://www.youtube.com/embed/ZmInkxbvlCs\"\n",
       "            frameborder=\"0\"\n",
       "            allowfullscreen\n",
       "            \n",
       "        ></iframe>\n",
       "        "
      ],
      "text/plain": [
       "<IPython.lib.display.IFrame at 0x7f693b2239a0>"
      ]
     },
     "execution_count": 8,
     "metadata": {},
     "output_type": "execute_result"
    }
   ],
   "source": [
    "# Run this cell to watch the most famous clip from Monty Python\n",
    "\n",
    "from IPython.display import IFrame\n",
    "\n",
    "IFrame(src=\"https://www.youtube.com/embed/ZmInkxbvlCs\", width=560, height=315)\n"
   ]
  },
  {
   "cell_type": "markdown",
   "metadata": {},
   "source": [
    "### Interpreted Programming Languages\n",
    "An interpreted language is a type of programming language for which most of its implementations execute instructions directly and freely, without previously compiling a program into machine-language instructions. The interpreter executes the program directly, translating each statement into a sequence of one or more subroutines, and then into another language (often machine code).\n",
    "\n",
    "To understand this, let's compare it with a compiled language. In a compiled language, before you can run a program, you need to run a special program called a compiler that translates your high-level code (what you write) into machine code (what the computer understands). This is a separate step before you can run your program.\n",
    "\n",
    "In contrast, an interpreted language skips this separate compilation step. Instead, an interpreter reads your code, understands it, and directly executes the instructions. It does this in real time, line by line. This means you can run your program immediately without having to compile it first.\n",
    "\n",
    "Python is an example of an interpreted language. When you run a Python program, the Python interpreter reads your Python code, interprets it, and then executes it."
   ]
  },
  {
   "cell_type": "markdown",
   "metadata": {},
   "source": [
    "### Primitive Types\n",
    "\n",
    "In programming, \"primitive types\" or \"primitive data types\" are the most basic data types that are provided by a programming language. Python, however, doesn't strictly have primitive types in the same way languages like Java or C do. Instead, Python treats all data types as objects (don't worry if you don't know what objects are we'll cover them in Week 2), but for simplicity, some basic types in Python can be thought of as primitives."
   ]
  },
  {
   "cell_type": "markdown",
   "metadata": {},
   "source": [
    "#### Integers (int)\n",
    "- Represent whole numbers without a fractional part"
   ]
  },
  {
   "cell_type": "code",
   "execution_count": 9,
   "metadata": {},
   "outputs": [],
   "source": [
    "a = 10\n",
    "b = -5"
   ]
  },
  {
   "cell_type": "markdown",
   "metadata": {},
   "source": [
    "#### Floating Point Numbers (float)\n",
    "- Used for representing real numbers with a fractional part.\n"
   ]
  },
  {
   "cell_type": "code",
   "execution_count": 10,
   "metadata": {},
   "outputs": [],
   "source": [
    "pi = 3.14\n",
    "negative_float = -0.01"
   ]
  },
  {
   "cell_type": "markdown",
   "metadata": {},
   "source": [
    "#### Booleans (bool)\n",
    "- Represents truth values, either True or False.\n",
    "\n",
    "- Often the result of comparisons or logical operations."
   ]
  },
  {
   "cell_type": "code",
   "execution_count": 11,
   "metadata": {},
   "outputs": [],
   "source": [
    "is_raining = False\n",
    "is_sunny = True\n",
    "is_impossible = is_raining and is_sunny # this will be False\n",
    "is_inevitable = is_raining or is_sunny # This will be True"
   ]
  },
  {
   "cell_type": "markdown",
   "metadata": {},
   "source": [
    "#### Strings (str)\n",
    "- Used for text data, a sequence of characters.\n",
    "\n",
    "- Enclosed in single quotes ('...') or double quotes (\"...\")."
   ]
  },
  {
   "cell_type": "code",
   "execution_count": 12,
   "metadata": {},
   "outputs": [],
   "source": [
    "name = \"Alice\"\n",
    "greeting = 'Hello, world!'"
   ]
  },
  {
   "cell_type": "markdown",
   "metadata": {},
   "source": [
    "#### NoneType (None)\n",
    "- A special type representing the absence of a value or a null value.\n",
    "\n",
    "- It's often used to signify 'nothing' or 'no value here'."
   ]
  },
  {
   "cell_type": "code",
   "execution_count": 13,
   "metadata": {},
   "outputs": [],
   "source": [
    "nothing = None"
   ]
  },
  {
   "cell_type": "markdown",
   "metadata": {},
   "source": [
    "### Variables\n",
    "In Python, variables are names that you assign to data that your program can manipulate. Unlike some other programming languages, Python doesn't require you to declare the type of a variable when you create one; it automatically determines the type based on the value you assign to it. This feature is part of what's known as dynamic typing. Let's go through some key points about Python variables, along with examples.\n",
    "\n",
    "#### Creating Variables\n",
    "To create a variable in Python, you just need to assign a value to a name:"
   ]
  },
  {
   "cell_type": "code",
   "execution_count": 14,
   "metadata": {},
   "outputs": [],
   "source": [
    "x = 5         # An integer\n",
    "y = \"Hello\"   # A string\n",
    "z = 4.5       # A floating-point number"
   ]
  },
  {
   "cell_type": "markdown",
   "metadata": {},
   "source": [
    "In this example, x is an integer variable, y is a string variable, and z is a float variable."
   ]
  },
  {
   "cell_type": "markdown",
   "metadata": {},
   "source": [
    "#### Dynamic Typing\n",
    "Python is dynamically typed, meaning you can reassign variables to different data types:"
   ]
  },
  {
   "cell_type": "code",
   "execution_count": 15,
   "metadata": {},
   "outputs": [],
   "source": [
    "x = 5       # x is an integer\n",
    "x = \"Sunny\" # Now x is a string"
   ]
  },
  {
   "cell_type": "markdown",
   "metadata": {},
   "source": [
    "This flexibility allows for a more straightforward coding style but also requires careful attention to how variables are used."
   ]
  },
  {
   "cell_type": "markdown",
   "metadata": {},
   "source": [
    "#### Naming Variables\n",
    "Python has a few rules and conventions for naming variables:\n",
    "\n",
    "Names can contain letters, numbers, and underscores.\n",
    "They cannot start with a number.\n",
    "Python is case-sensitive, so Variable and variable are different.\n",
    "Avoid using Python's keyword names as variable names (e.g., if, while, class, etc.).\n",
    "Names should be descriptive but not too long (e.g., age, total_price)."
   ]
  },
  {
   "cell_type": "code",
   "execution_count": 16,
   "metadata": {},
   "outputs": [],
   "source": [
    "# String variable\n",
    "name = \"Alice\"\n",
    "\n",
    "# Integer variable\n",
    "age = 30\n",
    "\n",
    "# Float variable\n",
    "height = 5.6\n",
    "\n",
    "# Boolean variable\n",
    "is_adult = True\n"
   ]
  },
  {
   "cell_type": "markdown",
   "metadata": {},
   "source": [
    "### Arithmetic Operations\n",
    "Arithmetic operations are basic mathematical operations that allow you to perform calculations on numbers. These include addition (+), subtraction (-), multiplication (*), division (/), modulus (% which gives the remainder), exponentiation (**), and floor division (// which gives the integer result of division)."
   ]
  },
  {
   "cell_type": "code",
   "execution_count": 17,
   "metadata": {},
   "outputs": [],
   "source": [
    "# Arithmetic Operations with 10 and 5\n",
    "\n",
    "# Addition\n",
    "addition_result = 10 + 5\n",
    "\n",
    "# Subtraction\n",
    "subtraction_result = 10 - 5\n",
    "\n",
    "# Multiplication\n",
    "multiplication_result = 10 * 5\n",
    "\n",
    "# Division\n",
    "division_result = 10 / 5\n",
    "\n",
    "# Floor Division\n",
    "floor_division_result = 10 // 5\n",
    "\n",
    "# Modulus\n",
    "modulus_result = 10 % 5\n",
    "\n",
    "# Exponentiation\n",
    "exponentiation_result = 10 ** 5\n"
   ]
  },
  {
   "cell_type": "markdown",
   "metadata": {},
   "source": [
    "### Conditionals\n",
    "\n",
    "\n",
    "Conditionals in Python are a way to execute different blocks of code based on certain conditions. They are structured using if, elif (else if), and else statements. One of the key aspects of Python's syntax is its use of indentation to define code blocks. Here's an overview with examples, highlighting the structure and indentation:\n"
   ]
  },
  {
   "cell_type": "markdown",
   "metadata": {},
   "source": [
    "#### Basic if Statement\n",
    "The if statement executes a block of code only if the condition evaluates to True. The block of code under an if statement is indented to define its scope."
   ]
  },
  {
   "cell_type": "code",
   "execution_count": 18,
   "metadata": {},
   "outputs": [
    {
     "name": "stdout",
     "output_type": "stream",
     "text": [
      "x is greater than 5\n"
     ]
    }
   ],
   "source": [
    "x = 10\n",
    "if x > 5:\n",
    "    print(\"x is greater than 5\")\n"
   ]
  },
  {
   "cell_type": "markdown",
   "metadata": {},
   "source": [
    "In this example, the line print(\"x is greater than 5\") is executed only if x > 5 is True. The indentation (usually 4 spaces) after the if statement is crucial as it defines which lines of code are part of the conditional."
   ]
  },
  {
   "cell_type": "markdown",
   "metadata": {},
   "source": [
    "#### if-else Statement\n",
    "An else statement follows an if statement and its block is executed when the if condition is False. The else block is also indented to indicate its scope."
   ]
  },
  {
   "cell_type": "code",
   "execution_count": 19,
   "metadata": {},
   "outputs": [
    {
     "name": "stdout",
     "output_type": "stream",
     "text": [
      "x is not greater than 5\n"
     ]
    }
   ],
   "source": [
    "x = 3\n",
    "if x > 5:\n",
    "    print(\"x is greater than 5\")\n",
    "else:\n",
    "    print(\"x is not greater than 5\")\n"
   ]
  },
  {
   "cell_type": "markdown",
   "metadata": {},
   "source": [
    "If x > 5 is False, the code under else (print(\"x is not greater than 5\")) is executed."
   ]
  },
  {
   "cell_type": "markdown",
   "metadata": {},
   "source": [
    "#### if-elif-else Chain\n",
    "For multiple conditions, elif is used after an initial if, and before an else. Each condition is checked in order. Once a True condition is found, its block is executed, and Python skips the rest."
   ]
  },
  {
   "cell_type": "code",
   "execution_count": 20,
   "metadata": {},
   "outputs": [
    {
     "name": "stdout",
     "output_type": "stream",
     "text": [
      "x is greater than 5\n"
     ]
    }
   ],
   "source": [
    "x = 10\n",
    "if x > 15:\n",
    "    print(\"x is greater than 15\")\n",
    "elif x > 10:\n",
    "    print(\"x is greater than 10\")\n",
    "elif x > 5:\n",
    "    print(\"x is greater than 5\")\n",
    "else:\n",
    "    print(\"x is 5 or less\")\n"
   ]
  },
  {
   "cell_type": "markdown",
   "metadata": {},
   "source": [
    "Each elif and else has its block of code indented under it. Only one block among these will execute."
   ]
  },
  {
   "cell_type": "markdown",
   "metadata": {},
   "source": [
    "#### Nested Conditionals\n",
    "Conditionals can be nested, meaning you can have an if-elif-else block inside another. Each level of nesting requires its own level of indentation.\n",
    "\n"
   ]
  },
  {
   "cell_type": "code",
   "execution_count": 21,
   "metadata": {},
   "outputs": [
    {
     "name": "stdout",
     "output_type": "stream",
     "text": [
      "x is greater than 5 and y is greater than 3\n"
     ]
    }
   ],
   "source": [
    "x = 10\n",
    "y = 5\n",
    "if x > 5:\n",
    "    if y > 3:\n",
    "        print(\"x is greater than 5 and y is greater than 3\")\n",
    "    else:\n",
    "        print(\"x is greater than 5 and y is not greater than 3\")\n",
    "else:\n",
    "    print(\"x is not greater than 5\")"
   ]
  },
  {
   "cell_type": "markdown",
   "metadata": {},
   "source": [
    "Here, the second if-else structure is nested within the first if block, indicated by a further level of indentation."
   ]
  },
  {
   "cell_type": "markdown",
   "metadata": {},
   "source": [
    "#### Boolean Logic in Conditionals\n",
    "Conditions can be combined using boolean operators like and, or, and not. The combined condition is evaluated as a whole."
   ]
  },
  {
   "cell_type": "code",
   "execution_count": 22,
   "metadata": {},
   "outputs": [
    {
     "name": "stdout",
     "output_type": "stream",
     "text": [
      "x is greater than 5 and y is less than 4\n"
     ]
    }
   ],
   "source": [
    "x = 7\n",
    "y = 3\n",
    "if x > 5 and y < 4:\n",
    "    print(\"x is greater than 5 and y is less than 4\")\n"
   ]
  },
  {
   "cell_type": "markdown",
   "metadata": {},
   "source": [
    "In this case, print is executed only if both x > 5 and y < 4 are True.\n",
    "\n",
    "In summary, conditionals in Python allow for decision-making in your code. The key aspects are the use of if, elif, else, and their corresponding conditions. Indentation is critical as it defines the scope of each conditional block, making your code both functional and readable."
   ]
  },
  {
   "cell_type": "markdown",
   "metadata": {},
   "source": [
    "### Functions\n",
    "\n",
    "Functions in Python are defined blocks of code designed to perform a specific task. Functions help in organizing code into manageable parts and promote code reusability. The structure of a function in Python includes the def keyword, a function name, parameters (optional), a colon, and an indented block of code. Here's an overview with examples, highlighting the structure and importance of indentation:"
   ]
  },
  {
   "cell_type": "markdown",
   "metadata": {},
   "source": [
    "#### Basic Function Structure\n",
    "A function is created using the def keyword, followed by the function name, parentheses (), and a colon :. The code block within a function is indented."
   ]
  },
  {
   "cell_type": "code",
   "execution_count": 23,
   "metadata": {},
   "outputs": [],
   "source": [
    "def greet():\n",
    "    print(\"Hello, World!\")"
   ]
  },
  {
   "cell_type": "markdown",
   "metadata": {},
   "source": [
    "Here, greet is a simple function that prints \"Hello, World!\". To execute this function, you call it by its name followed by parentheses:"
   ]
  },
  {
   "cell_type": "code",
   "execution_count": 24,
   "metadata": {},
   "outputs": [
    {
     "name": "stdout",
     "output_type": "stream",
     "text": [
      "Hello, World!\n"
     ]
    }
   ],
   "source": [
    "greet()  # Calls the function and prints \"Hello, World!\""
   ]
  },
  {
   "cell_type": "markdown",
   "metadata": {},
   "source": [
    "#### Function with Parameters\n",
    "Functions can take parameters, which are values passed into the function. Parameters are specified within the parentheses.\n"
   ]
  },
  {
   "cell_type": "code",
   "execution_count": 25,
   "metadata": {},
   "outputs": [],
   "source": [
    "def greet(name):\n",
    "    print(\"Hello, \" + name + \"!\")"
   ]
  },
  {
   "cell_type": "markdown",
   "metadata": {},
   "source": [
    "When calling this function, you provide the argument name:"
   ]
  },
  {
   "cell_type": "code",
   "execution_count": 26,
   "metadata": {},
   "outputs": [
    {
     "name": "stdout",
     "output_type": "stream",
     "text": [
      "Hello, Alice!\n"
     ]
    }
   ],
   "source": [
    "greet(\"Alice\")  # Prints \"Hello, Alice!\""
   ]
  },
  {
   "cell_type": "markdown",
   "metadata": {},
   "source": [
    "#### Returning Values\n",
    "A function can return a value using the return statement. The function exits when it hits a return statement.\n"
   ]
  },
  {
   "cell_type": "code",
   "execution_count": 27,
   "metadata": {},
   "outputs": [],
   "source": [
    "def add(x, y):\n",
    "    return x + y"
   ]
  },
  {
   "cell_type": "code",
   "execution_count": 28,
   "metadata": {},
   "outputs": [],
   "source": [
    "result = add(5, 3)  # result is 8"
   ]
  },
  {
   "cell_type": "markdown",
   "metadata": {},
   "source": [
    "#### Indentation\n",
    "Indentation is crucial as it defines the scope of the function body. All code within a function must be indented."
   ]
  },
  {
   "cell_type": "markdown",
   "metadata": {},
   "source": [
    "#### Docstrings\n",
    "Python also allows for documentation strings (docstrings) to be included right after the function definition to describe what the function does."
   ]
  },
  {
   "cell_type": "code",
   "execution_count": 29,
   "metadata": {},
   "outputs": [],
   "source": [
    "def multiply(x, y):\n",
    "    \"\"\"\n",
    "    Multiply two numbers and return the result.\n",
    "    \"\"\"\n",
    "    return x * y\n"
   ]
  },
  {
   "cell_type": "markdown",
   "metadata": {},
   "source": [
    "#### Default Parameter Values\n",
    "You can set default values for parameters. These defaults are used if no argument is provided"
   ]
  },
  {
   "cell_type": "code",
   "execution_count": 30,
   "metadata": {},
   "outputs": [],
   "source": [
    "def greet(name=\"World\"):\n",
    "    print(\"Hello, \" + name + \"!\")"
   ]
  },
  {
   "cell_type": "markdown",
   "metadata": {},
   "source": [
    "Calling greet() without an argument now defaults to \"World\":"
   ]
  },
  {
   "cell_type": "code",
   "execution_count": 31,
   "metadata": {},
   "outputs": [
    {
     "name": "stdout",
     "output_type": "stream",
     "text": [
      "Hello, World!\n"
     ]
    }
   ],
   "source": [
    "greet()  # Prints \"Hello, World!\""
   ]
  },
  {
   "cell_type": "markdown",
   "metadata": {},
   "source": [
    "### Lists\n",
    "Python lists are a versatile and widely used data structure for storing collections of items. They are one of the most fundamental and useful types in Python, allowing you to work with sequences of items organized in an ordered manner.\n",
    "\n",
    "#### Key Features of Python Lists:\n",
    "- Ordered: Lists maintain the order of elements as they are added. Each element has a specific position (or index) in the list.\n",
    "\n",
    "- Mutable: You can modify a list after its creation. This includes adding, removing, or changing elements.\n",
    "\n",
    "- Heterogeneous: Lists can contain items of different types (e.g., integers, strings, other lists) in the same list.\n",
    "\n",
    "- Dynamic: They can grow or shrink in size as needed, accommodating new elements or removing existing ones.\n",
    "\n",
    "#### Creating a List\n",
    "\n",
    "Lists are created by placing items inside square brackets [], separated by commas."
   ]
  },
  {
   "cell_type": "code",
   "execution_count": 32,
   "metadata": {},
   "outputs": [],
   "source": [
    "my_list = [1, 2, 3, \"Python\", 3.14]"
   ]
  },
  {
   "cell_type": "markdown",
   "metadata": {},
   "source": [
    "#### Basic Operations with Lists\n",
    "- Accessing Elements: Use the index of the element, starting from 0."
   ]
  },
  {
   "cell_type": "code",
   "execution_count": 33,
   "metadata": {},
   "outputs": [],
   "source": [
    "first_item = my_list[0]  # Access the first item"
   ]
  },
  {
   "cell_type": "markdown",
   "metadata": {},
   "source": [
    "- Adding Elements: Append items to the end or insert at a specific position."
   ]
  },
  {
   "cell_type": "code",
   "execution_count": 34,
   "metadata": {},
   "outputs": [],
   "source": [
    "my_list.append(\"new item\")  # Adds to the end\n",
    "my_list.insert(1, \"second item\")  # Inserts at index 1"
   ]
  },
  {
   "cell_type": "markdown",
   "metadata": {},
   "source": [
    "- Removing Elements: Remove or pop elements from the list."
   ]
  },
  {
   "cell_type": "code",
   "execution_count": 35,
   "metadata": {},
   "outputs": [],
   "source": [
    "my_list.remove(\"Python\")  # Removes the first occurrence of \"Python\"\n",
    "popped_item = my_list.pop(2)  # Removes and returns the item at index 2"
   ]
  },
  {
   "cell_type": "markdown",
   "metadata": {},
   "source": [
    "- Slicing: Create sublists using slice notation."
   ]
  },
  {
   "cell_type": "code",
   "execution_count": 36,
   "metadata": {},
   "outputs": [],
   "source": [
    "sublist = my_list[1:4]  # Gets items from index 1 to 3"
   ]
  },
  {
   "cell_type": "markdown",
   "metadata": {},
   "source": [
    "#### Common Uses of Lists\n",
    "Lists are incredibly versatile and can be used for a wide range of purposes in Python, from simple data storage and manipulation to more complex data structures like stacks, queues, and matrices. They are often used in loops, function arguments, and data processing tasks."
   ]
  },
  {
   "cell_type": "markdown",
   "metadata": {},
   "source": [
    "## Challenge Task 1"
   ]
  },
  {
   "cell_type": "markdown",
   "metadata": {},
   "source": [
    "Write the remaining code in the following function called greet_person. It accepts 2 parameters name of type string and known_names of type list of strings. The function checks if the name exists in known names. If the name exists in known_names the function prints 'Hello [name], it's nice to see you again!'. If name doesn't exist in known names it prints 'Hello [name], it's nice to meet you'.\n",
    "\n",
    "Examples:\n",
    "\n",
    "example 1\n",
    "\n",
    "    name = 'Jack'\n",
    "    known_names = ['Tiahna', 'Jeff']\n",
    "\n",
    "    greet_person(name, known_names) -> 'Hello Jack, it's nice to meet you!'\n",
    "\n",
    "example 2\n",
    "\n",
    "    name = 'Jack'\n",
    "    known_names = ['Jack', 'Tiahna', 'Jeff']\n",
    "\n",
    "    greet_person(name, known_names) -> 'Hello Jack, it's nice to see you again!'\n",
    "\n",
    "\n",
    "\n"
   ]
  },
  {
   "cell_type": "code",
   "execution_count": 37,
   "metadata": {},
   "outputs": [],
   "source": [
    "def greet_person(name: str, known_names: list):\n",
    "    name_is_known = name in known_names # this checks if name is in known_names and evalutes to a boolean\n",
    "\n",
    "    # insert your code here. Note ___ is a place that should be replaced by your code\n",
    "    if name in known_names:\n",
    "        print(f\"Hello {name}, it's nice to see you again!\")\n",
    "    else: \n",
    "        print(f\"Hello {name}, it's nice to meet you!\")"
   ]
  },
  {
   "cell_type": "code",
   "execution_count": 38,
   "metadata": {},
   "outputs": [
    {
     "name": "stdout",
     "output_type": "stream",
     "text": [
      "Hello Jack, it's nice to meet you!\n",
      "Hello Jack, it's nice to see you again!\n"
     ]
    }
   ],
   "source": [
    "# Test greet_person here to make sure it works as expected!\n",
    "\n",
    "name = 'Jack'\n",
    "known_names = ['Tiahna', 'Jeff']\n",
    "\n",
    "greet_person(name, known_names)\n",
    "\n",
    "name = 'Jack'\n",
    "known_names = ['Jack', 'Tiahna', 'Jeff']\n",
    "\n",
    "greet_person(name, known_names)"
   ]
  },
  {
   "cell_type": "markdown",
   "metadata": {},
   "source": [
    "### Run this code block to check your function is correct"
   ]
  },
  {
   "cell_type": "code",
   "execution_count": 39,
   "metadata": {},
   "outputs": [
    {
     "name": "stdout",
     "output_type": "stream",
     "text": [
      "\u001b[92mTest 1 Passed\u001b[0m\n",
      "\u001b[92mTest 2 Passed\u001b[0m\n"
     ]
    }
   ],
   "source": [
    "test_greet_person()"
   ]
  },
  {
   "cell_type": "markdown",
   "metadata": {},
   "source": [
    "Notice in our greet_person function we can check if an element exists in our list with the `in` keyword. This doesn't just work with strings, it works with numbers and other types as well. "
   ]
  },
  {
   "cell_type": "markdown",
   "metadata": {},
   "source": [
    "### Dictionaries\n",
    "\n",
    "Dictionaries in Python are collections of key-value pairs. They are unordered, mutable, and dynamic. Each key in a dictionary is associated with a value, creating pairs for efficient data storage and retrieval.\n"
   ]
  },
  {
   "cell_type": "markdown",
   "metadata": {},
   "source": [
    "#### Creating a Dictionary\n",
    "\n",
    "Dictionaries are created with curly braces `{}` and key-value pairs separated by commas.\n"
   ]
  },
  {
   "cell_type": "code",
   "execution_count": 40,
   "metadata": {},
   "outputs": [],
   "source": [
    "my_dictionary = {\n",
    "    \"name\": \"Alice\",\n",
    "    \"age\": 30,\n",
    "    \"email\": \"alice@example.com\"\n",
    "}"
   ]
  },
  {
   "cell_type": "markdown",
   "metadata": {},
   "source": [
    "#### Accessing Values\n",
    "\n",
    "Retrieve values by referring to their keys.\n"
   ]
  },
  {
   "cell_type": "code",
   "execution_count": 41,
   "metadata": {},
   "outputs": [
    {
     "name": "stdout",
     "output_type": "stream",
     "text": [
      "Name: Alice\n"
     ]
    }
   ],
   "source": [
    "name = my_dictionary[\"name\"]\n",
    "print(f\"Name: {name}\")"
   ]
  },
  {
   "cell_type": "markdown",
   "metadata": {},
   "source": [
    "#### Adding or Modifying Entries\n",
    "\n",
    "Add new pairs or modify existing pairs using keys.\n"
   ]
  },
  {
   "cell_type": "code",
   "execution_count": 42,
   "metadata": {},
   "outputs": [
    {
     "name": "stdout",
     "output_type": "stream",
     "text": [
      "Updated Dictionary: {'name': 'Alice', 'age': 31, 'email': 'alice@example.com', 'address': '123 Street'}\n"
     ]
    }
   ],
   "source": [
    "my_dictionary[\"age\"] = 31  # Modifies an existing entry\n",
    "my_dictionary[\"address\"] = \"123 Street\"  # Adds a new entry\n",
    "print(f\"Updated Dictionary: {my_dictionary}\")"
   ]
  },
  {
   "cell_type": "markdown",
   "metadata": {},
   "source": [
    "#### Removing Entries\n",
    "\n",
    "Entries can be removed using the `del` statement or the `pop()` method.\n"
   ]
  },
  {
   "cell_type": "code",
   "execution_count": 43,
   "metadata": {},
   "outputs": [
    {
     "name": "stdout",
     "output_type": "stream",
     "text": [
      "Dictionary after deletion: {'name': 'Alice', 'age': 31, 'address': '123 Street'}\n"
     ]
    }
   ],
   "source": [
    "del my_dictionary[\"email\"]  # Removes the entry with key \"email\"\n",
    "print(f\"Dictionary after deletion: {my_dictionary}\")"
   ]
  },
  {
   "cell_type": "markdown",
   "metadata": {},
   "source": [
    "#### Common Uses\n",
    "\n",
    "Python dictionaries are widely used for tasks like data storage, manipulation, and representing JSON data.\n"
   ]
  },
  {
   "cell_type": "markdown",
   "metadata": {},
   "source": [
    "## Challenge Task 2"
   ]
  },
  {
   "cell_type": "markdown",
   "metadata": {},
   "source": [
    "Your challenge is to implement a basic phone book using a dictionary in Python. This phone book will use a dictionary named phone_book to store and manage contacts, with each contact's name as the key and their phone number as the value. You will need to complete the implementation of several functions to handle common phone book operations, adhering to the specifications provided in their respective docstrings.\n",
    "\n",
    "Key Functions to Implement:\n",
    "Add Contact: Create a function to add a new contact to the phone book. If the contact already exists, decide whether to overwrite it based on a parameter.\n",
    "\n",
    "Remove Contact: Implement a function to remove an existing contact from the phone book.\n",
    "\n",
    "Lookup Contact: Develop a function to retrieve a contact's phone number using their name."
   ]
  },
  {
   "cell_type": "code",
   "execution_count": 50,
   "metadata": {},
   "outputs": [],
   "source": [
    "\n",
    "def get_contact(phone_book: dict, name: str):\n",
    "    \"\"\"\n",
    "    Retrieve the contact number associated with a given name from the phone book.\n",
    "\n",
    "    Parameters:\n",
    "    phone_book (dict): A dictionary representing the phone book with names as keys and phone numbers as values.\n",
    "    name (str): The name of the individual whose contact number is to be retrieved.\n",
    "\n",
    "    Returns:\n",
    "    str: The phone number associated with the given name. If the name is not found, returns None.\n",
    "    \"\"\"\n",
    "\n",
    "    # Replace pass with your code\n",
    "    return phone_book.get(name, None)\n",
    "\n",
    "def add_contact(phone_book: dict, name: str, phoneNumber: int, overwrite = False):\n",
    "    \"\"\"\n",
    "    Add or update a contact in the phone book.\n",
    "\n",
    "    Parameters:\n",
    "    phone_book (dict): The phone book dictionary to which the contact will be added.\n",
    "    name (str): The name of the individual to be added or updated in the phone book.\n",
    "    phoneNumber (str): The phone number of the individual.\n",
    "    overwrite (bool): A flag to indicate whether to overwrite an existing contact with the same name. Default is False.\n",
    "\n",
    "    Returns:\n",
    "    None: The function updates the phone_book dictionary in place and does not return anything.\n",
    "    \"\"\"\n",
    "    # Replace pass with your code\n",
    "    number = phone_book.get(name, None)\n",
    "    if number == None:\n",
    "        phone_book[name] = phoneNumber\n",
    "    elif number != None and overwrite == True:\n",
    "        phone_book[name] = phoneNumber\n",
    "\n",
    "def remove_contact(phone_book, name: str):\n",
    "    \"\"\"\n",
    "    Remove a contact from the phone book by name.\n",
    "\n",
    "    Parameters:\n",
    "    phone_book (dict): The phone book dictionary from which the contact will be removed.\n",
    "    name (str): The name of the individual whose contact is to be removed.\n",
    "\n",
    "    Returns:\n",
    "    bool: Returns True if the contact was successfully removed, False if the contact was not found in the phone book.\n",
    "    \"\"\"\n",
    "    if name in phone_book.keys():\n",
    "        phone_book.pop(name)\n",
    "        return True\n",
    "    else:\n",
    "        return False"
   ]
  },
  {
   "cell_type": "code",
   "execution_count": 51,
   "metadata": {},
   "outputs": [],
   "source": [
    "# Test your code here\n",
    "\n",
    "phone_book = {'Alice': '0476777852'}\n",
    "\n",
    "# call some of your functions to see if they work\n",
    "\n"
   ]
  },
  {
   "cell_type": "code",
   "execution_count": 52,
   "metadata": {},
   "outputs": [
    {
     "name": "stdout",
     "output_type": "stream",
     "text": [
      "\u001b[92mTest 1 Passed: Adding a contact\u001b[0m\n",
      "\u001b[92mTest 2 Passed: Overwriting a contact's number\u001b[0m\n",
      "\u001b[92mTest 3 Passed: Getting a contact's phone number\u001b[0m\n",
      "\u001b[92mTest 4 Passed: Not overwriting a contact's number\u001b[0m\n",
      "\u001b[92mTest 5 Passed: Removing a contact\u001b[0m\n",
      "\u001b[92mTest 6 Passed: Removing a non-existent contact\u001b[0m\n"
     ]
    }
   ],
   "source": [
    "# run this code to test your functions\n",
    "test_phone_book()"
   ]
  },
  {
   "cell_type": "markdown",
   "metadata": {},
   "source": [
    "### Loops\n"
   ]
  },
  {
   "cell_type": "markdown",
   "metadata": {},
   "source": [
    "Loops are one of the fundamental constructs in Python programming, allowing you to execute a block of code multiple times. Python provides two primary types of loops: the for loop and the while loop, each with its unique use case.\n",
    "\n",
    "#### For Loops\n",
    "The for loop in Python is used to iterate over a sequence (such as a list, tuple, dictionary, set, or string). This kind of loop is often used when you know beforehand how many times you need to iterate.\n",
    "\n",
    "Example of a for loop:"
   ]
  },
  {
   "cell_type": "code",
   "execution_count": 91,
   "metadata": {},
   "outputs": [
    {
     "name": "stdout",
     "output_type": "stream",
     "text": [
      "apple\n",
      "banana\n",
      "cherry\n"
     ]
    }
   ],
   "source": [
    "fruits = [\"apple\", \"banana\", \"cherry\"]\n",
    "for fruit in fruits:\n",
    "    print(fruit)\n"
   ]
  },
  {
   "cell_type": "markdown",
   "metadata": {},
   "source": [
    "In this example, the for loop iterates through the list fruits, and in each iteration, the variable fruit takes on the value of the next item in the list.\n",
    "\n",
    "#### While Loops\n",
    "The while loop in Python repeats as long as a certain boolean condition is met. It's used when you want to continue looping until a particular condition changes, which might not be a predetermined number of times.\n",
    "\n",
    "Example of a while loop:"
   ]
  },
  {
   "cell_type": "code",
   "execution_count": 92,
   "metadata": {},
   "outputs": [
    {
     "name": "stdout",
     "output_type": "stream",
     "text": [
      "0\n",
      "1\n",
      "2\n"
     ]
    }
   ],
   "source": [
    "count = 0\n",
    "while count < 3:\n",
    "    print(count)\n",
    "    count += 1"
   ]
  },
  {
   "cell_type": "code",
   "execution_count": null,
   "metadata": {},
   "outputs": [],
   "source": []
  },
  {
   "cell_type": "markdown",
   "metadata": {},
   "source": [
    "#### Iterating Over a Range of Numbers\n",
    "Suppose you want to iterate from 0 to 4 and print each number:"
   ]
  },
  {
   "cell_type": "code",
   "execution_count": 93,
   "metadata": {},
   "outputs": [
    {
     "name": "stdout",
     "output_type": "stream",
     "text": [
      "0\n",
      "1\n",
      "2\n",
      "3\n",
      "4\n"
     ]
    }
   ],
   "source": [
    "for i in range(5):  # Starts from 0 by default and goes up to, but not including, 5\n",
    "    print(i)"
   ]
  },
  {
   "cell_type": "markdown",
   "metadata": {},
   "source": [
    "- range(5) generates a sequence of numbers from 0 to 4. The end value (5 in this case) is exclusive.\n",
    "- for i in range(5) iterates through this sequence, assigning each value from the sequence to i in each iteration."
   ]
  },
  {
   "cell_type": "markdown",
   "metadata": {},
   "source": [
    "#### Iterating over a dictionary\n",
    "Let's consider a dictionary that maps a few names to their respective favorite colors:"
   ]
  },
  {
   "cell_type": "code",
   "execution_count": 94,
   "metadata": {},
   "outputs": [
    {
     "name": "stdout",
     "output_type": "stream",
     "text": [
      "Alice's favorite color is Blue\n",
      "Bob's favorite color is Green\n",
      "Charlie's favorite color is Red\n"
     ]
    }
   ],
   "source": [
    "favorite_colors = {\n",
    "    \"Alice\": \"Blue\",\n",
    "    \"Bob\": \"Green\",\n",
    "    \"Charlie\": \"Red\"\n",
    "}\n",
    "\n",
    "# Looping over the dictionary\n",
    "for name, color in favorite_colors.items():\n",
    "    print(f\"{name}'s favorite color is {color}\")\n"
   ]
  },
  {
   "cell_type": "markdown",
   "metadata": {},
   "source": [
    "- favorite_colors is a dictionary where each key is a person's name, and each value is their favorite color.\n",
    "- The for loop uses the .items() method of the dictionary, which returns key-value pairs.\n",
    "- In each iteration, name gets the key (person's name), and color gets the corresponding value (the favorite color).\n",
    "- The print statement inside the loop outputs the name and favorite color in a formatted string."
   ]
  },
  {
   "cell_type": "markdown",
   "metadata": {},
   "source": [
    "## Challenge Task 3\n",
    "Create a Python function count_unique_chars(sentence: str) that counts the number of unique characters in each word of a given sentence and outputs each unique word as a key and the corresponding unique character count as the value in a dictionary. The program should use a loop to process each word in the sentence and a dictionary to keep track of the count of unique characters for each word.\n",
    "\n",
    "Example function use:"
   ]
  },
  {
   "cell_type": "code",
   "execution_count": 95,
   "metadata": {},
   "outputs": [
    {
     "data": {
      "text/plain": [
       "'\\nsentence = \"hello world program\"\\n\\nprint(count_unique_chars(sentence))\\n\\n\\nWill output this: \\n\\n{\\n    \\'hello\\': 4,    \\n    \\'world\\': 5,  \\n    \\'program\\': 6  \\n}\\n'"
      ]
     },
     "execution_count": 95,
     "metadata": {},
     "output_type": "execute_result"
    }
   ],
   "source": [
    "\"\"\"\n",
    "sentence = \"hello world program\"\n",
    "\n",
    "print(count_unique_chars(sentence))\n",
    "\n",
    "\n",
    "Will output this: \n",
    "\n",
    "{\n",
    "    'hello': 4,    \n",
    "    'world': 5,  \n",
    "    'program': 6  \n",
    "}\n",
    "\"\"\""
   ]
  },
  {
   "cell_type": "code",
   "execution_count": 53,
   "metadata": {},
   "outputs": [],
   "source": [
    "# complete the function here\n",
    "\n",
    "# *** hint *** \"hello world program\".split() == ['hello', 'world' 'program']\n",
    "\n",
    "def count_unique_chars(sentence):\n",
    "\n",
    "    # replace pass with your code\n",
    "    word_list = sentence.split()\n",
    "    word_dict = {}\n",
    "    for word in word_list:\n",
    "        letter_list = []\n",
    "        for letter in word:\n",
    "            if letter not in letter_list:\n",
    "                letter_list.append(letter)\n",
    "        word_dict[word] = len(letter_list)\n",
    "    return word_dict"
   ]
  },
  {
   "cell_type": "code",
   "execution_count": 54,
   "metadata": {},
   "outputs": [],
   "source": [
    "# call your code here\n"
   ]
  },
  {
   "cell_type": "code",
   "execution_count": 55,
   "metadata": {},
   "outputs": [
    {
     "name": "stdout",
     "output_type": "stream",
     "text": [
      "\u001b[92mTest 1 Passed: Unique characters in a simple sentence\u001b[0m\n",
      "\u001b[92mTest 2 Passed: Sentence with repeated words\u001b[0m\n",
      "\u001b[92mTest 3 Passed: Sentence with a single word\u001b[0m\n",
      "\u001b[92mTest 4 Passed: Empty sentence\u001b[0m\n",
      "\u001b[92mTest 5 Passed: Sentence with different length words\u001b[0m\n"
     ]
    }
   ],
   "source": [
    "test_count_unique_chars()"
   ]
  },
  {
   "cell_type": "code",
   "execution_count": null,
   "metadata": {},
   "outputs": [],
   "source": []
  }
 ],
 "metadata": {
  "kernelspec": {
   "display_name": "Python 3",
   "language": "python",
   "name": "python3"
  },
  "language_info": {
   "codemirror_mode": {
    "name": "ipython",
    "version": 3
   },
   "file_extension": ".py",
   "mimetype": "text/x-python",
   "name": "python",
   "nbconvert_exporter": "python",
   "pygments_lexer": "ipython3",
   "version": "3.10.13"
  }
 },
 "nbformat": 4,
 "nbformat_minor": 2
}
